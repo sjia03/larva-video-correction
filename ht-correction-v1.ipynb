{
 "cells": [
  {
   "cell_type": "markdown",
   "id": "885fb55c",
   "metadata": {},
   "source": [
    "## HT Correction V1\n",
    "Detecting head-tail swap errors based on the change in tail position. If the change in tail position meets a certain threshold, then we can consider it an error. Through EDA, we see that there are certain peaks throughout the video which indicate potential error points where the head-tail coordinates swap."
   ]
  },
  {
   "cell_type": "code",
   "execution_count": 2,
   "id": "d0e8f36a",
   "metadata": {},
   "outputs": [],
   "source": [
    "import numpy as np\n",
    "import sys\n",
    "np.set_printoptions(threshold=sys.maxsize)\n",
    "from numpy import diff\n",
    "import pandas as pd\n",
    "import matplotlib.pyplot as plt\n",
    "from numpy import *"
   ]
  },
  {
   "cell_type": "code",
   "execution_count": 3,
   "id": "ac3e7027",
   "metadata": {},
   "outputs": [],
   "source": [
    "# original data\n",
    "data = pd.read_csv('2021.09.08_12-49-52_W1118_Solvent/2021.09.08_12-49-52_data_processed.csv') "
   ]
  },
  {
   "cell_type": "code",
   "execution_count": 15,
   "id": "1e490795",
   "metadata": {},
   "outputs": [],
   "source": [
    "# Filtering processed data\n",
    "Xcentroid = pd.Series(data['X-Centroid'])\n",
    "Ycentroid = pd.Series(data['Y-Centroid'])\n",
    "Xhead = pd.Series(data['X-Head'])\n",
    "Yhead = pd.Series(data['Y-Head'])\n",
    "Xtail = pd.Series(data['X-Tail'])\n",
    "Ytail = pd.Series(data['Y-Tail'])\n",
    "frame = pd.Series(data['Frame'])"
   ]
  },
  {
   "cell_type": "code",
   "execution_count": 5,
   "id": "c1674c43",
   "metadata": {},
   "outputs": [],
   "source": [
    "# Locate when larva is in center circle\n",
    "binarized_array = []\n",
    "for i in range(len(Xcentroid)):\n",
    "    dist = (((Xcentroid[i] - 694)**2 + ((Ycentroid[i] - 486)**2))**(1/2))\n",
    "    # print(dist)\n",
    "    if dist > 85: # increased radius measurement for buffer room when larva is at very edge of circle\n",
    "        binarized_array.append(0)\n",
    "    else: \n",
    "        binarized_array.append(1)"
   ]
  },
  {
   "cell_type": "code",
   "execution_count": 6,
   "id": "724347d0",
   "metadata": {},
   "outputs": [],
   "source": [
    "# Function to find distance bewteen two frames\n",
    "def dis(x1, y1, x2, y2):\n",
    "    dist = (((x1-x2)**2 + (y1-y2)**2)**(1/2))\n",
    "    return dist"
   ]
  },
  {
   "cell_type": "code",
   "execution_count": 7,
   "id": "9ebb31a2",
   "metadata": {},
   "outputs": [],
   "source": [
    "# function to create change in tailPosition data\n",
    "def tail_position_change(xt, yt, frame):\n",
    "    tailPosition = []\n",
    "    \n",
    "    for i in range(frame[0]): # if frame doesn't start at 0\n",
    "        tailPosition.append(0)\n",
    "    \n",
    "    for i in range(len(xt)-1):\n",
    "        dist = dis(xt[i], yt[i], xt[i+1], yt[i+1])\n",
    "        tailPosition.append(dist)\n",
    "    \n",
    "    return tailPosition"
   ]
  },
  {
   "cell_type": "code",
   "execution_count": 8,
   "id": "9d5688fd",
   "metadata": {},
   "outputs": [],
   "source": [
    "# function to make a plot for tailPosition data\n",
    "def plot_tail_change(tail_data):\n",
    "    xlist = np.linspace(frame[0], frame[0]+len(tail_data), len(tail_data)) # frames as x\n",
    "    ylist = tail_data # change in tail position as y\n",
    "\n",
    "    fig, ax = plt.subplots()\n",
    "    ax.plot(xlist, ylist, linewidth=2.0)\n",
    "\n",
    "    plt.show()"
   ]
  },
  {
   "cell_type": "code",
   "execution_count": 9,
   "id": "b3c2812a",
   "metadata": {
    "scrolled": false
   },
   "outputs": [
    {
     "data": {
      "image/png": "[encoded data removed]",
      "text/plain": [
       "<Figure size 432x288 with 1 Axes>"
      ]
     },
     "metadata": {
      "needs_background": "light"
     },
     "output_type": "display_data"
    }
   ],
   "source": [
    "tchange = tail_position_change(Xtail, Ytail, frame)\n",
    "tchange_plot = plot_tail_change(tchange)"
   ]
  },
  {
   "cell_type": "markdown",
   "id": "8723cf65",
   "metadata": {},
   "source": [
    "#### Notes\n",
    "- Not all big peaks are within the circle \n",
    "- ex) at frame 4119 it's not in the circle AND it doesn't curl BUT it swaps back itself at 4222 \n",
    "    - 4119 is accounted as a big peak but 4222 is not (how will we detect that it switched back)?\n",
    "- peaks > 4 identified at [4119, 5954, 6037, 6243] \n",
    "    - 4119 -> swaps ht creating error (then it's get fixed at 4218) -> not detectable in head position data too\n",
    "        - tried looking if unprocessed data had any answers to why 4222 doesn't show up as big peak\n",
    "    - 5956 - 6039 -> starts with ht error and ends with ht error (in between it swaps multiple times)\n",
    "        - multiple switches aren't caught in data (tail position change distance) \n",
    "    - 6245 -> fixes ht error from 6037\n",
    "- at 6037 it's on the edge of the circle -> need to widen circle range to include that\n",
    "\n",
    "#### Suggestions\n",
    "- use peaks as markers \n",
    "  - find 5 or 10 frames before then apply it to next 10-15 frames\n",
    "- what if i try if both change in head and tail position are above certain threshold then that is a \"peak\"\n",
    "    - rids of the error where tail position is just stretching out\n",
    "\n",
    "#### Main Questions\n",
    "- why isn't 4222 accounted for in tail position data?\n",
    "- how can we group peaks like 5956 and 6039 which occur on the edge of the circle? \n",
    "    - rules out odd peaks switch method\n",
    "    - check other plots to see if this occurs"
   ]
  },
  {
   "cell_type": "code",
   "execution_count": 10,
   "id": "464d29fb",
   "metadata": {},
   "outputs": [],
   "source": [
    "# Find the peaks (relative max) CHECK THE OUTPUT\n",
    "peaks = (diff(sign(diff(tchange))) < 0).nonzero()[0] + 1 # local max"
   ]
  },
  {
   "cell_type": "code",
   "execution_count": 11,
   "id": "4dc3795a",
   "metadata": {},
   "outputs": [
    {
     "data": {
      "text/plain": [
       "[4119, 5956, 6039, 6245]"
      ]
     },
     "execution_count": 11,
     "metadata": {},
     "output_type": "execute_result"
    }
   ],
   "source": [
    "# Find peaks greater than threshold (temporarily set at 4)\n",
    "big_peaks = []\n",
    "for frame in peaks:\n",
    "    if tchange[frame] > 4:\n",
    "        big_peaks.append(frame)\n",
    "        \n",
    "big_peaks"
   ]
  },
  {
   "cell_type": "code",
   "execution_count": 12,
   "id": "fcd895ca",
   "metadata": {},
   "outputs": [
    {
     "data": {
      "text/plain": [
       "[5956, 6039, 6245]"
      ]
     },
     "execution_count": 12,
     "metadata": {},
     "output_type": "execute_result"
    }
   ],
   "source": [
    "# Find peaks INSIDE the circle\n",
    "peaks_in_circle = []\n",
    "for i in range(len(binarized_array)):\n",
    "    if (binarized_array[i] == 1) and (i in peaks):\n",
    "        peaks_in_circle.append(i)\n",
    "\n",
    "# Find peaks INSIDE the circle that are greater than threshold (temporarily set at 4)\n",
    "big_peaks1 = []\n",
    "for frame in peaks_in_circle:\n",
    "    if tchange[frame] > 4:\n",
    "        big_peaks1.append(frame)\n",
    "        \n",
    "big_peaks1"
   ]
  },
  {
   "cell_type": "code",
   "execution_count": 13,
   "id": "c4d51211",
   "metadata": {},
   "outputs": [],
   "source": [
    "# take in the file, the peak (array of peaks we need to check), \n",
    "def ht_correction(peak, xc, yc, xh, yh, xt, yt, frame):\n",
    "    xheadCorrected = xh.copy()\n",
    "    yheadCorrected = yh.copy()\n",
    "    xtailCorrected = xt.copy()\n",
    "    ytailCorrected = yt.copy()\n",
    "    \n",
    "    # plot change in tail position without corrections\n",
    "    tchange = tail_position_change(xt, yt, frame)\n",
    "    tchange_plot = plot_tail_change(tchange)\n",
    "    \n",
    "    # test for HT correction\n",
    "    def ht_error_correction(fr1, fr2, j):\n",
    "        d1 = dis(xc[fr1], yc[fr1], xc[fr2], yc[fr2])\n",
    "        d2 = dis(xc[fr1], yc[fr1], xt[fr2], yt[fr2])\n",
    "        \n",
    "        if d1 < d2: # CHECK THIS!!! i need to change it for the peak and AFTER it\n",
    "            xheadCorrected[peak[j]:peak[j]+15] = xt[peak[j]:peak[j]+15]\n",
    "            yheadCorrected[peak[j]:peak[j]+15] = yt[peak[j]:peak[j]+15]\n",
    "            xtailCorrected[peak[j]:peak[j]+15] = xh[peak[j]:peak[j]+15]\n",
    "            ytailCorrected[peak[j]:peak[j]+15] = yh[peak[j]:peak[j]+15]\n",
    "            \n",
    "            #print(xheadCorrected[fr1:fr2])\n",
    "    \n",
    "    for n in range(len(peak)):\n",
    "        ht_error_correction(peak[n]-15, peak[n], n)\n",
    "        #xheadCorrected = list(np.round(xheadCorrected,decimals = 1))\n",
    "        #yheadCorrected = list(np.round(yheadCorrected, decimals=1))\n",
    "        #xtailCorrected = list(np.round(xtailCorrected, decimals=1))\n",
    "        #ytailCorrected = list(np.round(ytailCorrected, decimals=1))\n",
    "    \n",
    "    # plot change in tail position WITH corrections\n",
    "    tchange1 = tail_position_change(xtailCorrected, ytailCorrected, frame)\n",
    "    tchange_plot1 = plot_tail_change(tchange1)\n",
    "    \n",
    "    # finding peaks (if any) in the new set\n",
    "    peaks = (diff(sign(diff(tchange1))) < 0).nonzero()[0] + 1\n",
    "    \n",
    "    new_peaks = []\n",
    "    for frame in peaks:\n",
    "        if tchange1[frame] > 4:\n",
    "            new_peaks.append(frame)\n",
    "        \n",
    "    print(new_peaks)"
   ]
  },
  {
   "cell_type": "code",
   "execution_count": 16,
   "id": "790813b8",
   "metadata": {
    "scrolled": true
   },
   "outputs": [
    {
     "data": {
      "image/png": "[encoded data removed]",
      "text/plain": [
       "<Figure size 432x288 with 1 Axes>"
      ]
     },
     "metadata": {
      "needs_background": "light"
     },
     "output_type": "display_data"
    },
    {
     "data": {
      "image/png": "[encoded data removed]",
      "text/plain": [
       "<Figure size 432x288 with 1 Axes>"
      ]
     },
     "metadata": {
      "needs_background": "light"
     },
     "output_type": "display_data"
    },
    {
     "name": "stdout",
     "output_type": "stream",
     "text": [
      "[4120, 4135, 5956, 5972, 6039, 6245, 6261]\n"
     ]
    }
   ],
   "source": [
    "ht_correction(big_peaks, Xcentroid, Ycentroid, Xhead, Yhead, Xtail, Ytail, frame)"
   ]
  },
  {
   "cell_type": "code",
   "execution_count": 17,
   "id": "2c43c92b",
   "metadata": {},
   "outputs": [
    {
     "name": "stdout",
     "output_type": "stream",
     "text": [
      "1.0198039027185435 6.306346010171034\n"
     ]
    }
   ],
   "source": [
    "# Manually testing function \n",
    "d1 = dis(Xcentroid[big_peaks[0]-15], Ycentroid[big_peaks[0]-15], Xcentroid[big_peaks[0]], Ycentroid[big_peaks[0]])\n",
    "d2 = dis(Xcentroid[big_peaks[0]-15], Ycentroid[big_peaks[0]-15], Xtail[big_peaks[0]], Ytail[big_peaks[0]])\n",
    "\n",
    "print(d1, d2)\n",
    "\n",
    "# Manually fix from 4119 to 4218\n",
    "\n",
    "xheadCorrected = Xhead.copy()\n",
    "yheadCorrected = Yhead.copy()\n",
    "xtailCorrected = Xtail.copy()\n",
    "ytailCorrected = Ytail.copy()\n",
    "\n",
    "xheadCorrected[4119:4218] = Xtail[4119:4218]\n",
    "yheadCorrected[4119:] = Ytail[4119:]\n",
    "xtailCorrected[4119:4218] = Xhead[4119:4218]\n",
    "ytailCorrected[4119:4218] = Yhead[4119:4218]\n"
   ]
  },
  {
   "cell_type": "code",
   "execution_count": 18,
   "id": "18103a51",
   "metadata": {},
   "outputs": [
    {
     "name": "stdout",
     "output_type": "stream",
     "text": [
      "It's ok\n",
      "6.306346010171034 8.920201791439387\n"
     ]
    }
   ],
   "source": [
    "# Test if peak has HT error\n",
    "d1 = dis(Xcentroid[4104], Ycentroid[4104], Xtail[4119], Ytail[4119])\n",
    "d2 = dis(Xcentroid[4104], Ycentroid[4104], Xhead[4119], Yhead[4119])\n",
    "if d1 < d2:\n",
    "    print(\"It's ok\")\n",
    "else:\n",
    "    print(\"There's an error\")\n",
    "    \n",
    "print(d1, d2)"
   ]
  },
  {
   "cell_type": "markdown",
   "id": "3690eb60",
   "metadata": {},
   "source": [
    "### TESTING PLOTS"
   ]
  },
  {
   "cell_type": "code",
   "execution_count": 82,
   "id": "0f35c9f0",
   "metadata": {
    "scrolled": true
   },
   "outputs": [],
   "source": [
    "data1 = pd.read_csv('2021.10.04_15-08-01_W1118 Odor/2021.10.04_15-08-01_data_processed.csv') "
   ]
  },
  {
   "cell_type": "code",
   "execution_count": 83,
   "id": "cd144f99",
   "metadata": {
    "scrolled": true
   },
   "outputs": [],
   "source": [
    "# Filtering processed data\n",
    "XC1 = pd.Series(data1['X-Centroid'])\n",
    "YC1 = pd.Series(data1['Y-Centroid'])\n",
    "XH1 = pd.Series(data1['X-Head'])\n",
    "YH1 = pd.Series(data1['Y-Head'])\n",
    "XT1 = pd.Series(data1['X-Tail'])\n",
    "YT1 = pd.Series(data1['Y-Tail'])\n",
    "frame1 = pd.Series(data1['Frame'])"
   ]
  },
  {
   "cell_type": "code",
   "execution_count": 84,
   "id": "261df612",
   "metadata": {
    "scrolled": true
   },
   "outputs": [
    {
     "data": {
      "image/png": "[encoded data removed]",
      "text/plain": [
       "<Figure size 432x288 with 1 Axes>"
      ]
     },
     "metadata": {
      "needs_background": "light"
     },
     "output_type": "display_data"
    }
   ],
   "source": [
    "tchange1 = tail_position_change(XT1, YT1, frame1)\n",
    "plot_tail_change(tchange1) "
   ]
  },
  {
   "cell_type": "code",
   "execution_count": 90,
   "id": "fd4fa4b1",
   "metadata": {},
   "outputs": [
    {
     "data": {
      "image/png": "[encoded data removed]",
      "text/plain": [
       "<Figure size 432x288 with 1 Axes>"
      ]
     },
     "metadata": {
      "needs_background": "light"
     },
     "output_type": "display_data"
    }
   ],
   "source": [
    "data2 = pd.read_csv('2021.09.09_12-51-26_W1118_Odor/2021.09.09_12-51-26_data_processed.csv')\n",
    "\n",
    "# Filtering processed data\n",
    "XC2 = pd.Series(data2['X-Centroid'])\n",
    "YC2 = pd.Series(data2['Y-Centroid'])\n",
    "XH2 = pd.Series(data2['X-Head'])\n",
    "YH2 = pd.Series(data2['Y-Head'])\n",
    "XT2 = pd.Series(data2['X-Tail'])\n",
    "YT2 = pd.Series(data2['Y-Tail'])\n",
    "frame2 = pd.Series(data2['Frame'])\n",
    "\n",
    "tchange2 = tail_position_change(XT2, YT2, frame2)\n",
    "plot_tail_change(tchange2)"
   ]
  },
  {
   "cell_type": "code",
   "execution_count": 91,
   "id": "d96e198b",
   "metadata": {
    "scrolled": true
   },
   "outputs": [
    {
     "data": {
      "image/png": "[encoded data removed]",
      "text/plain": [
       "<Figure size 432x288 with 1 Axes>"
      ]
     },
     "metadata": {
      "needs_background": "light"
     },
     "output_type": "display_data"
    }
   ],
   "source": [
    "data3 = pd.read_csv('2021.07.26_23-28-46_test/2021.07.26_23-28-46_data_processed.csv') \n",
    "\n",
    "# Filtering processed data\n",
    "XC3 = pd.Series(data3['X-Centroid'])\n",
    "YC3 = pd.Series(data3['Y-Centroid'])\n",
    "XH3 = pd.Series(data3['X-Head'])\n",
    "YH3 = pd.Series(data3['Y-Head'])\n",
    "XT3 = pd.Series(data3['X-Tail'])\n",
    "YT3 = pd.Series(data3['Y-Tail'])\n",
    "frame3 = pd.Series(data3['Frame'])\n",
    "\n",
    "tchange3 = tail_position_change(XT3, YT3, frame3)\n",
    "plot_tail_change(tchange3)"
   ]
  },
  {
   "cell_type": "markdown",
   "id": "599944a7",
   "metadata": {},
   "source": [
    "### DIFFERENT APPROACH"
   ]
  },
  {
   "cell_type": "code",
   "execution_count": 19,
   "id": "b3d3f72e",
   "metadata": {},
   "outputs": [],
   "source": [
    "up_data = pd.read_csv('2021.09.08_12-49-52_W1118_Solvent/2021.09.08_12-49-52_data.csv')"
   ]
  },
  {
   "cell_type": "code",
   "execution_count": 20,
   "id": "206c5d1e",
   "metadata": {},
   "outputs": [],
   "source": [
    "up_Xcentroid = pd.Series(up_data['X-Centroid'])\n",
    "up_Ycentroid = pd.Series(up_data['Y-Centroid'])\n",
    "up_Xhead = pd.Series(up_data['X-Head'])\n",
    "up_Yhead = pd.Series(up_data['Y-Head'])\n",
    "up_Xtail = pd.Series(up_data['X-Tail'])\n",
    "up_Ytail = pd.Series(up_data['Y-Tail'])\n",
    "up_frame = pd.Series(up_data['Frame'])"
   ]
  },
  {
   "cell_type": "code",
   "execution_count": 24,
   "id": "9946a845",
   "metadata": {},
   "outputs": [
    {
     "data": {
      "text/plain": [
       "[0,\n",
       " 1,\n",
       " 2,\n",
       " 3,\n",
       " 4,\n",
       " 5,\n",
       " 6,\n",
       " 7,\n",
       " 8,\n",
       " 9,\n",
       " 10,\n",
       " 11,\n",
       " 12,\n",
       " 13,\n",
       " 14,\n",
       " 15,\n",
       " 16,\n",
       " 17,\n",
       " 18,\n",
       " 19,\n",
       " 20,\n",
       " 21,\n",
       " 22,\n",
       " 23,\n",
       " 24,\n",
       " 25,\n",
       " 26,\n",
       " 27,\n",
       " 28,\n",
       " 29,\n",
       " 30,\n",
       " 31,\n",
       " 32,\n",
       " 33,\n",
       " 34,\n",
       " 35,\n",
       " 36,\n",
       " 39,\n",
       " 40,\n",
       " 58,\n",
       " 60,\n",
       " 61,\n",
       " 63,\n",
       " 64,\n",
       " 65,\n",
       " 66,\n",
       " 67,\n",
       " 68,\n",
       " 69,\n",
       " 70,\n",
       " 71,\n",
       " 73,\n",
       " 79,\n",
       " 82,\n",
       " 85,\n",
       " 86,\n",
       " 87,\n",
       " 88,\n",
       " 861,\n",
       " 862,\n",
       " 863,\n",
       " 864,\n",
       " 970,\n",
       " 3498,\n",
       " 3506,\n",
       " 3512,\n",
       " 3515,\n",
       " 3516,\n",
       " 3520,\n",
       " 3523,\n",
       " 3524,\n",
       " 3525,\n",
       " 3526,\n",
       " 3528,\n",
       " 3533,\n",
       " 3542,\n",
       " 3543,\n",
       " 3546,\n",
       " 3553,\n",
       " 3555,\n",
       " 3561,\n",
       " 3577,\n",
       " 3587,\n",
       " 3599,\n",
       " 3606,\n",
       " 3609,\n",
       " 3613,\n",
       " 3614,\n",
       " 3617,\n",
       " 3628,\n",
       " 3630,\n",
       " 3634,\n",
       " 3635,\n",
       " 3637,\n",
       " 3638,\n",
       " 3642,\n",
       " 3645,\n",
       " 3648,\n",
       " 3649,\n",
       " 3653,\n",
       " 3656,\n",
       " 3657,\n",
       " 3662,\n",
       " 3664,\n",
       " 3665,\n",
       " 3666,\n",
       " 3668,\n",
       " 3671,\n",
       " 3672,\n",
       " 3673,\n",
       " 3674,\n",
       " 3675,\n",
       " 3676,\n",
       " 3677,\n",
       " 3685,\n",
       " 3686,\n",
       " 3687,\n",
       " 3692,\n",
       " 3694,\n",
       " 3695,\n",
       " 3696,\n",
       " 3697,\n",
       " 3698,\n",
       " 3699,\n",
       " 3701,\n",
       " 3705,\n",
       " 3708,\n",
       " 3712,\n",
       " 3715,\n",
       " 3717,\n",
       " 3718,\n",
       " 3721,\n",
       " 3723,\n",
       " 3724,\n",
       " 3732,\n",
       " 4118,\n",
       " 5957,\n",
       " 5963,\n",
       " 5965,\n",
       " 5966,\n",
       " 5968,\n",
       " 5976,\n",
       " 5990,\n",
       " 5995,\n",
       " 5996,\n",
       " 5997,\n",
       " 5998,\n",
       " 6000,\n",
       " 6016,\n",
       " 6017,\n",
       " 6019,\n",
       " 6020,\n",
       " 6022,\n",
       " 6023,\n",
       " 6024,\n",
       " 6025,\n",
       " 6033,\n",
       " 6035,\n",
       " 6036,\n",
       " 6038,\n",
       " 6248,\n",
       " 6260,\n",
       " 6261,\n",
       " 6262,\n",
       " 6263,\n",
       " 6269,\n",
       " 6270,\n",
       " 6274,\n",
       " 6288,\n",
       " 6590,\n",
       " 6596,\n",
       " 6600,\n",
       " 6606,\n",
       " 6607,\n",
       " 6609,\n",
       " 6610,\n",
       " 6612,\n",
       " 6613,\n",
       " 6616,\n",
       " 6618,\n",
       " 6620,\n",
       " 6621,\n",
       " 6623,\n",
       " 6624,\n",
       " 6625,\n",
       " 6626,\n",
       " 6627,\n",
       " 6628,\n",
       " 6629,\n",
       " 6630,\n",
       " 6631,\n",
       " 6632,\n",
       " 6633,\n",
       " 6635,\n",
       " 6636,\n",
       " 6637,\n",
       " 6638,\n",
       " 6639,\n",
       " 6640,\n",
       " 6641,\n",
       " 6642,\n",
       " 6643,\n",
       " 6644,\n",
       " 6645,\n",
       " 6646,\n",
       " 6647,\n",
       " 6648,\n",
       " 6649,\n",
       " 6650,\n",
       " 6651,\n",
       " 6652,\n",
       " 6653,\n",
       " 6654,\n",
       " 6655,\n",
       " 6656,\n",
       " 6657,\n",
       " 6658,\n",
       " 6659,\n",
       " 6660,\n",
       " 6661,\n",
       " 6662,\n",
       " 6663,\n",
       " 6664,\n",
       " 6665,\n",
       " 6666,\n",
       " 6667,\n",
       " 6668,\n",
       " 6669,\n",
       " 6670,\n",
       " 6671,\n",
       " 6672,\n",
       " 6673,\n",
       " 6674,\n",
       " 6675,\n",
       " 6676,\n",
       " 6677,\n",
       " 6678,\n",
       " 6679,\n",
       " 6680,\n",
       " 6681,\n",
       " 6682,\n",
       " 6683,\n",
       " 6684,\n",
       " 6685,\n",
       " 6686,\n",
       " 6687,\n",
       " 6688,\n",
       " 6689,\n",
       " 6690,\n",
       " 6691,\n",
       " 6692,\n",
       " 6693,\n",
       " 6694,\n",
       " 6695,\n",
       " 6696,\n",
       " 6697,\n",
       " 6698,\n",
       " 6699,\n",
       " 6700,\n",
       " 6701,\n",
       " 6702,\n",
       " 6703,\n",
       " 6704,\n",
       " 6705,\n",
       " 6706,\n",
       " 6707,\n",
       " 6708,\n",
       " 6709,\n",
       " 6710,\n",
       " 6711,\n",
       " 6712,\n",
       " 6713,\n",
       " 6716,\n",
       " 6718,\n",
       " 6738,\n",
       " 7942,\n",
       " 8985,\n",
       " 8986,\n",
       " 8987,\n",
       " 8988,\n",
       " 8989,\n",
       " 8990,\n",
       " 8991,\n",
       " 8992,\n",
       " 8993,\n",
       " 8994,\n",
       " 8995,\n",
       " 8996,\n",
       " 8997,\n",
       " 8998,\n",
       " 8999,\n",
       " 9000,\n",
       " 9001,\n",
       " 9002,\n",
       " 9003,\n",
       " 9004,\n",
       " 9005,\n",
       " 9006,\n",
       " 9007,\n",
       " 9008,\n",
       " 9009,\n",
       " 9010,\n",
       " 9011,\n",
       " 9012,\n",
       " 9013,\n",
       " 9014,\n",
       " 9015,\n",
       " 9016,\n",
       " 9017,\n",
       " 9018,\n",
       " 9019,\n",
       " 9020,\n",
       " 9021,\n",
       " 9022,\n",
       " 9023,\n",
       " 9024,\n",
       " 9025,\n",
       " 9026,\n",
       " 9027,\n",
       " 9028,\n",
       " 9029]"
      ]
     },
     "execution_count": 24,
     "metadata": {},
     "output_type": "execute_result"
    }
   ],
   "source": [
    "# Find all points when centroid = head = tail\n",
    "flags = []\n",
    "for i in range(len(up_Xcentroid)):\n",
    "    if (up_Xcentroid[i] == up_Xhead[i] == up_Xtail[i] != 0) and (up_Ycentroid[i] == up_Yhead[i] == up_Ytail[i] != 0):\n",
    "        flags.append(i)\n",
    "\n",
    "# Attempting to remove the continuous points\n",
    "proc_flags = []\n",
    "for i in range(len(flags)-1):\n",
    "    if flags[i+1] != flags[i] + 1:\n",
    "        proc_flags.append(flags[i])\n",
    "        \n",
    "flags"
   ]
  },
  {
   "cell_type": "code",
   "execution_count": 22,
   "id": "8a79b603",
   "metadata": {},
   "outputs": [],
   "source": [
    "#proc_flags"
   ]
  },
  {
   "cell_type": "code",
   "execution_count": 23,
   "id": "48be018e",
   "metadata": {},
   "outputs": [],
   "source": [
    "# Find all points that are actually errors (using flags and applying to PROCESSED data)\n",
    "error_flags = []\n",
    "for i in proc_flags:\n",
    "    if i < 2: \n",
    "        continue \n",
    "    \n",
    "    # check one after and closest one before that is NOT in flags\n",
    "        \n",
    "    d1 = dis(Xtail[i-1], Ytail[i-1], Xtail[i+1], Ytail[i+1])\n",
    "    d2 = dis(Xcentroid[i], Ycentroid[i], Xtail[i-1], Ytail[i-1])\n",
    "    \n",
    "    if d1 > d2:\n",
    "        error_flags.append(i)\n",
    "\n",
    "#error_flags\n"
   ]
  },
  {
   "cell_type": "code",
   "execution_count": 121,
   "id": "ced4973f",
   "metadata": {
    "scrolled": true
   },
   "outputs": [
    {
     "name": "stdout",
     "output_type": "stream",
     "text": [
      "1.8027756377320183 2.816025568065748\n"
     ]
    }
   ],
   "source": [
    "d1 = dis(Xcentroid[16-15], Ycentroid[16-15], Xcentroid[16], Ycentroid[16])\n",
    "d2 = dis(Xcentroid[16-15], Ycentroid[16-15], Xtail[16], Ytail[16])\n",
    "print(d1, d2)"
   ]
  },
  {
   "cell_type": "code",
   "execution_count": null,
   "id": "06ffa4da",
   "metadata": {},
   "outputs": [],
   "source": []
  }
 ],
 "metadata": {
  "kernelspec": {
   "display_name": "Python 3 (ipykernel)",
   "language": "python",
   "name": "python3"
  },
  "language_info": {
   "codemirror_mode": {
    "name": "ipython",
    "version": 3
   },
   "file_extension": ".py",
   "mimetype": "text/x-python",
   "name": "python",
   "nbconvert_exporter": "python",
   "pygments_lexer": "ipython3",
   "version": "3.9.5"
  }
 },
 "nbformat": 4,
 "nbformat_minor": 5
}
