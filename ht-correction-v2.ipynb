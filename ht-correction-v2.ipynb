{
 "cells": [
  {
   "cell_type": "markdown",
   "id": "00a16164",
   "metadata": {},
   "source": [
    "## HT Correction V2\n",
    "Fixing minor errors in the subfunctions written from V1. Realizing that using change in tail position as a marker for HT errors is not accurate. After manually lining up the actual video with our EDA plots from V1, there were many cases where a HT swap occurs but the change in tail position was below our defined threshold. \n",
    "\n",
    "While I was manually watching videos of larva, I noticed that everytime an error occured it was always before the larva \"blinks.\" In this case, a \"blink\" is when the head, tail, and centroid coordinates all converge into the centroid position. In the next version, I attempt to use this as a marker for finding errors. "
   ]
  },
  {
   "cell_type": "code",
   "execution_count": 4,
   "id": "de0b6b3e",
   "metadata": {},
   "outputs": [],
   "source": [
    "import numpy as np\n",
    "import sys\n",
    "np.set_printoptions(threshold=sys.maxsize)\n",
    "from numpy import diff\n",
    "import pandas as pd\n",
    "import matplotlib.pyplot as plt\n",
    "from numpy import *"
   ]
  },
  {
   "cell_type": "code",
   "execution_count": 5,
   "id": "568b6c97",
   "metadata": {},
   "outputs": [],
   "source": [
    "# original data\n",
    "data = pd.read_csv('2021.09.08_12-49-52_W1118_Solvent/2021.09.08_12-49-52_data_processed.csv') "
   ]
  },
  {
   "cell_type": "code",
   "execution_count": 15,
   "id": "d832b560",
   "metadata": {},
   "outputs": [],
   "source": [
    "# Filtering processed data\n",
    "Xcentroid = pd.Series(data['X-Centroid'])\n",
    "Ycentroid = pd.Series(data['Y-Centroid'])\n",
    "Xhead = pd.Series(data['X-Head'])\n",
    "Yhead = pd.Series(data['Y-Head'])\n",
    "Xtail = pd.Series(data['X-Tail'])\n",
    "Ytail = pd.Series(data['Y-Tail'])\n",
    "frame = pd.Series(data['Frame'])"
   ]
  },
  {
   "cell_type": "code",
   "execution_count": 9,
   "id": "2363a727",
   "metadata": {},
   "outputs": [],
   "source": [
    "# Function to find distance bewteen two frames\n",
    "def dis(x1, y1, x2, y2):\n",
    "    dist = (((x1-x2)**2 + (y1-y2)**2)**(1/2))\n",
    "    return dist"
   ]
  },
  {
   "cell_type": "code",
   "execution_count": 10,
   "id": "b25cc66a",
   "metadata": {},
   "outputs": [],
   "source": [
    "# function to create change in tailPosition data\n",
    "def tail_position_change(xt, yt, frame):\n",
    "    tailPosition = []\n",
    "    \n",
    "    for i in range(frame[0]): # if frame doesn't start at 0\n",
    "        tailPosition.append(0)\n",
    "    \n",
    "    for i in range(len(xt)-1):\n",
    "        dist = dis(xt[i], yt[i], xt[i+1], yt[i+1])\n",
    "        tailPosition.append(dist)\n",
    "    \n",
    "    return tailPosition"
   ]
  },
  {
   "cell_type": "code",
   "execution_count": 11,
   "id": "0823ae9b",
   "metadata": {},
   "outputs": [],
   "source": [
    "# function to make a plot for tailPosition data\n",
    "def plot_tail_change(tail_data):\n",
    "    xlist = np.linspace(frame[0], frame[0]+len(tail_data), len(tail_data)) # frames as x\n",
    "    ylist = tail_data # change in tail position as y\n",
    "\n",
    "    fig, ax = plt.subplots()\n",
    "    ax.plot(xlist, ylist, linewidth=2.0)\n",
    "\n",
    "    plt.show()"
   ]
  },
  {
   "cell_type": "code",
   "execution_count": 8,
   "id": "813e7a7a",
   "metadata": {},
   "outputs": [
    {
     "data": {
      "image/png": "[encoded data removed]",
      "text/plain": [
       "<Figure size 432x288 with 1 Axes>"
      ]
     },
     "metadata": {
      "needs_background": "light"
     },
     "output_type": "display_data"
    }
   ],
   "source": [
    "# create data and plot it\n",
    "tchange = tail_position_change(Xtail, Ytail, frame)\n",
    "tchange_plot = plot_tail_change(tchange)"
   ]
  },
  {
   "cell_type": "code",
   "execution_count": 9,
   "id": "fb6ecac3",
   "metadata": {},
   "outputs": [
    {
     "data": {
      "text/plain": [
       "[4119, 5956, 6039, 6245]"
      ]
     },
     "execution_count": 9,
     "metadata": {},
     "output_type": "execute_result"
    }
   ],
   "source": [
    "# Find the peaks (relative max) \n",
    "peaks = (diff(sign(diff(tchange))) < 0).nonzero()[0] + 1 \n",
    "\n",
    "# Find peaks greater than threshold (temporarily set at 4)\n",
    "big_peaks = []\n",
    "for frame in peaks:\n",
    "    if tchange[frame] > 4:\n",
    "        big_peaks.append(frame)\n",
    "        \n",
    "big_peaks"
   ]
  },
  {
   "cell_type": "code",
   "execution_count": 1,
   "id": "519a4c13",
   "metadata": {},
   "outputs": [],
   "source": [
    "# implementing function from Zainab's code to fix the segments where the HT makes an error \n",
    "\n",
    "# take in the file, the peak (array of peaks we need to check), \n",
    "def ht_correction(peak, xc, yc, xh, yh, xt, yt, frame):\n",
    "    xheadCorrected = xh.copy()\n",
    "    yheadCorrected = yh.copy()\n",
    "    xtailCorrected = xt.copy()\n",
    "    ytailCorrected = yt.copy()\n",
    "    \n",
    "    # plot change in tail position without corrections\n",
    "    tchange = tail_position_change(xt, yt, frame)\n",
    "    tchange_plot = plot_tail_change(tchange)\n",
    "    \n",
    "    # test for HT correction\n",
    "    def ht_error_correction(fr1, fr2, j):\n",
    "        d1 = dis(xc[fr1], yc[fr1], xc[fr2], yc[fr2])\n",
    "        d2 = dis(xc[fr1], yc[fr1], xt[fr2], yt[fr2])\n",
    "        \n",
    "        if d1 < d2: # PROBLEM: need to find a specific point where the error ends \n",
    "            xheadCorrected[peak[j]:peak[j]+15] = xt[peak[j]:peak[j]+15]\n",
    "            yheadCorrected[peak[j]:peak[j]+15] = yt[peak[j]:peak[j]+15]\n",
    "            xtailCorrected[peak[j]:peak[j]+15] = xh[peak[j]:peak[j]+15]\n",
    "            ytailCorrected[peak[j]:peak[j]+15] = yh[peak[j]:peak[j]+15]\n",
    "            \n",
    "            #print(xheadCorrected[fr1:fr2])\n",
    "    \n",
    "    for n in range(len(peak)):\n",
    "        ht_error_correction(peak[n]-15, peak[n], n)\n",
    "        #xheadCorrected = list(np.round(xheadCorrected,decimals = 1))\n",
    "        #yheadCorrected = list(np.round(yheadCorrected, decimals=1))\n",
    "        #xtailCorrected = list(np.round(xtailCorrected, decimals=1))\n",
    "        #ytailCorrected = list(np.round(ytailCorrected, decimals=1))\n",
    "    \n",
    "    # plot change in tail position WITH corrections\n",
    "    tchange1 = tail_position_change(xtailCorrected, ytailCorrected, frame)\n",
    "    tchange_plot1 = plot_tail_change(tchange1)\n",
    "    \n",
    "    # finding peaks (if any) in the new set\n",
    "    peaks = (diff(sign(diff(tchange1))) < 0).nonzero()[0] + 1\n",
    "    \n",
    "    new_peaks = []\n",
    "    for frame in peaks:\n",
    "        if tchange1[frame] > 4:\n",
    "            new_peaks.append(frame)\n",
    "        \n",
    "    print(new_peaks)"
   ]
  },
  {
   "cell_type": "code",
   "execution_count": 15,
   "id": "5a330e20",
   "metadata": {
    "scrolled": false
   },
   "outputs": [
    {
     "data": {
      "image/png": "[encoded data removed]",
      "text/plain": [
       "<Figure size 432x288 with 1 Axes>"
      ]
     },
     "metadata": {
      "needs_background": "light"
     },
     "output_type": "display_data"
    },
    {
     "data": {
      "image/png": "[encoded data removed]",
      "text/plain": [
       "<Figure size 432x288 with 1 Axes>"
      ]
     },
     "metadata": {
      "needs_background": "light"
     },
     "output_type": "display_data"
    },
    {
     "name": "stdout",
     "output_type": "stream",
     "text": [
      "[4120, 4135, 5956, 5972, 6039, 6245, 6261]\n"
     ]
    }
   ],
   "source": [
    "# Call the function \n",
    "ht_correction(big_peaks, Xcentroid, Ycentroid, Xhead, Yhead, Xtail, Ytail, frame)"
   ]
  },
  {
   "cell_type": "markdown",
   "id": "640299e7",
   "metadata": {},
   "source": [
    "### DIFFERENT APPROACH\n",
    "- try using the blinks (which can be detected from the unprocessed data) as markers to check whether a HT error occurered or not"
   ]
  },
  {
   "cell_type": "code",
   "execution_count": 12,
   "id": "2277e3e4",
   "metadata": {},
   "outputs": [],
   "source": [
    "# unprocessed data\n",
    "up_data = pd.read_csv('2021.09.08_12-49-52_W1118_Solvent/2021.09.08_12-49-52_data.csv')\n",
    "\n",
    "up_Xcentroid = pd.Series(up_data['X-Centroid'])\n",
    "up_Ycentroid = pd.Series(up_data['Y-Centroid'])\n",
    "up_Xhead = pd.Series(up_data['X-Head'])\n",
    "up_Yhead = pd.Series(up_data['Y-Head'])\n",
    "up_Xtail = pd.Series(up_data['X-Tail'])\n",
    "up_Ytail = pd.Series(up_data['Y-Tail'])\n",
    "up_frame = pd.Series(up_data['Frame'])"
   ]
  },
  {
   "cell_type": "code",
   "execution_count": 13,
   "id": "df73453d",
   "metadata": {},
   "outputs": [],
   "source": [
    "# Find all points when centroid = head = tail\n",
    "flags = []\n",
    "for i in range(len(up_Xcentroid)):\n",
    "    if (up_Xcentroid[i] == up_Xhead[i] == up_Xtail[i] != 0) and (up_Ycentroid[i] == up_Yhead[i] == up_Ytail[i] != 0):\n",
    "        flags.append(i)\n",
    "\n",
    "# Attempting to remove the continuous points\n",
    "proc_flags = []\n",
    "for i in range(len(flags)-1):\n",
    "    if flags[i+1] != flags[i] + 1:\n",
    "        proc_flags.append(flags[i])"
   ]
  },
  {
   "cell_type": "code",
   "execution_count": 16,
   "id": "af511b4a",
   "metadata": {},
   "outputs": [
    {
     "data": {
      "text/plain": [
       "[3543, 3561, 4118, 5957, 6036, 6038, 6633]"
      ]
     },
     "execution_count": 16,
     "metadata": {},
     "output_type": "execute_result"
    }
   ],
   "source": [
    "# Find all blinks that are actually errors \n",
    "error_flags = []\n",
    "for i in proc_flags:\n",
    "    if i < 2: \n",
    "        continue \n",
    "    \n",
    "    # check one frame after and closest one before that is NOT in flags (problem)\n",
    "    d1 = dis(Xtail[i-1], Ytail[i-1], Xtail[i+1], Ytail[i+1])\n",
    "    d2 = dis(Xcentroid[i], Ycentroid[i], Xtail[i-1], Ytail[i-1])\n",
    "    \n",
    "    if d1 > d2:\n",
    "        error_flags.append(i)\n",
    "\n",
    "error_flags\n"
   ]
  },
  {
   "cell_type": "code",
   "execution_count": 17,
   "id": "a5c11b05",
   "metadata": {},
   "outputs": [
    {
     "data": {
      "text/plain": [
       "[3666, 4118, 5957, 6036, 6038]"
      ]
     },
     "execution_count": 17,
     "metadata": {},
     "output_type": "execute_result"
    }
   ],
   "source": [
    "# Find all blinks that swap correctly\n",
    "correct_flags = []\n",
    "for i in proc_flags:\n",
    "    if i < 2: \n",
    "        continue \n",
    "    \n",
    "    # check one frame after and closest one before that is NOT in flags (problem)\n",
    "    d1 = dis(Xhead[i-1], Yhead[i-1], Xhead[i+1], Yhead[i+1])\n",
    "    d2 = dis(Xcentroid[i], Ycentroid[i], Xhead[i-1], Yhead[i-1])\n",
    "    \n",
    "    if d1 > d2:\n",
    "        correct_flags.append(i)\n",
    "\n",
    "correct_flags"
   ]
  },
  {
   "cell_type": "code",
   "execution_count": null,
   "id": "b63e1ff4",
   "metadata": {},
   "outputs": [],
   "source": []
  }
 ],
 "metadata": {
  "kernelspec": {
   "display_name": "Python 3 (ipykernel)",
   "language": "python",
   "name": "python3"
  },
  "language_info": {
   "codemirror_mode": {
    "name": "ipython",
    "version": 3
   },
   "file_extension": ".py",
   "mimetype": "text/x-python",
   "name": "python",
   "nbconvert_exporter": "python",
   "pygments_lexer": "ipython3",
   "version": "3.9.5"
  }
 },
 "nbformat": 4,
 "nbformat_minor": 5
}
