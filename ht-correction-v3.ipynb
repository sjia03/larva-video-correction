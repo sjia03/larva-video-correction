{
 "cells": [
  {
   "cell_type": "markdown",
   "id": "4985b360",
   "metadata": {},
   "source": [
    "## HT Correction V3\n",
    "Using the new method, the script was able to catch and fix about 81% of errors that occured. Another member of the coding team developed a filter to process the data in a manner that my ht_correction function could more easily digest. When running the script after the filter, it could catch about 90% of errors that occured."
   ]
  },
  {
   "cell_type": "code",
   "execution_count": 1,
   "id": "a6d0cf38",
   "metadata": {},
   "outputs": [],
   "source": [
    "import numpy as np\n",
    "import sys\n",
    "np.set_printoptions(threshold=sys.maxsize)\n",
    "from numpy import diff\n",
    "import pandas as pd\n",
    "import matplotlib.pyplot as plt\n",
    "from numpy import *\n"
   ]
  },
  {
   "cell_type": "code",
   "execution_count": 2,
   "id": "b3677873",
   "metadata": {},
   "outputs": [],
   "source": [
    "# use unprocessed data to identify blinks\n",
    "data = pd.read_csv('2021.09.08_12-49-52_W1118_Solvent/2021.09.08_12-49-52_data.csv')\n",
    "filename = \"2021.09.08_12-49-52_data.csv\"\n",
    "\n",
    "# filtering unprocessed data\n",
    "Xcentroid = pd.Series(data['X-Centroid'])\n",
    "Ycentroid = pd.Series(data['Y-Centroid'])\n",
    "Xhead = pd.Series(data['X-Head'])\n",
    "Yhead = pd.Series(data['Y-Head'])\n",
    "Xtail = pd.Series(data['X-Tail'])\n",
    "Ytail = pd.Series(data['Y-Tail'])\n",
    "frames = pd.Series(data['Frame'])\n"
   ]
  },
  {
   "cell_type": "code",
   "execution_count": 3,
   "id": "376dc461",
   "metadata": {},
   "outputs": [],
   "source": [
    "# processed data\n",
    "data_p = pd.read_csv('2021.09.08_12-49-52_W1118_Solvent/2021.09.08_12-49-52_data_processed.csv')\n",
    "\n",
    "Xcentroid_p = pd.Series(data_p['X-Centroid'])\n",
    "Ycentroid_p = pd.Series(data_p['Y-Centroid'])\n",
    "Xhead_p = pd.Series(data_p['X-Head'])\n",
    "Yhead_p = pd.Series(data_p['Y-Head'])\n",
    "Xtail_p = pd.Series(data_p['X-Tail'])\n",
    "Ytail_p = pd.Series(data_p['Y-Tail'])\n",
    "frames_p = pd.Series(data_p['Frame'])"
   ]
  },
  {
   "cell_type": "code",
   "execution_count": 5,
   "id": "e0067736",
   "metadata": {
    "scrolled": true
   },
   "outputs": [
    {
     "data": {
      "text/html": [
       "<div>\n",
       "<style scoped>\n",
       "    .dataframe tbody tr th:only-of-type {\n",
       "        vertical-align: middle;\n",
       "    }\n",
       "\n",
       "    .dataframe tbody tr th {\n",
       "        vertical-align: top;\n",
       "    }\n",
       "\n",
       "    .dataframe thead th {\n",
       "        text-align: right;\n",
       "    }\n",
       "</style>\n",
       "<table border=\"1\" class=\"dataframe\">\n",
       "  <thead>\n",
       "    <tr style=\"text-align: right;\">\n",
       "      <th></th>\n",
       "      <th>Unnamed: 0</th>\n",
       "      <th>Frame</th>\n",
       "      <th>Time</th>\n",
       "      <th>X-Centroid</th>\n",
       "      <th>Y-Centroid</th>\n",
       "      <th>X-Head</th>\n",
       "      <th>Y-Head</th>\n",
       "      <th>X-Tail</th>\n",
       "      <th>Y-Tail</th>\n",
       "      <th>X-Midpoint</th>\n",
       "      <th>Y-Midpoint</th>\n",
       "      <th>stimulation</th>\n",
       "    </tr>\n",
       "  </thead>\n",
       "  <tbody>\n",
       "    <tr>\n",
       "      <th>0</th>\n",
       "      <td>0</td>\n",
       "      <td>0</td>\n",
       "      <td>0.000000</td>\n",
       "      <td>711</td>\n",
       "      <td>216</td>\n",
       "      <td>711</td>\n",
       "      <td>216</td>\n",
       "      <td>711</td>\n",
       "      <td>216</td>\n",
       "      <td>709</td>\n",
       "      <td>221</td>\n",
       "      <td>0.0</td>\n",
       "    </tr>\n",
       "    <tr>\n",
       "      <th>1</th>\n",
       "      <td>1</td>\n",
       "      <td>1</td>\n",
       "      <td>0.000000</td>\n",
       "      <td>711</td>\n",
       "      <td>213</td>\n",
       "      <td>711</td>\n",
       "      <td>213</td>\n",
       "      <td>711</td>\n",
       "      <td>213</td>\n",
       "      <td>711</td>\n",
       "      <td>217</td>\n",
       "      <td>0.0</td>\n",
       "    </tr>\n",
       "    <tr>\n",
       "      <th>2</th>\n",
       "      <td>2</td>\n",
       "      <td>2</td>\n",
       "      <td>0.299847</td>\n",
       "      <td>712</td>\n",
       "      <td>212</td>\n",
       "      <td>712</td>\n",
       "      <td>212</td>\n",
       "      <td>712</td>\n",
       "      <td>212</td>\n",
       "      <td>714</td>\n",
       "      <td>215</td>\n",
       "      <td>0.0</td>\n",
       "    </tr>\n",
       "    <tr>\n",
       "      <th>3</th>\n",
       "      <td>3</td>\n",
       "      <td>3</td>\n",
       "      <td>0.333166</td>\n",
       "      <td>711</td>\n",
       "      <td>213</td>\n",
       "      <td>711</td>\n",
       "      <td>213</td>\n",
       "      <td>711</td>\n",
       "      <td>213</td>\n",
       "      <td>714</td>\n",
       "      <td>215</td>\n",
       "      <td>0.0</td>\n",
       "    </tr>\n",
       "    <tr>\n",
       "      <th>4</th>\n",
       "      <td>4</td>\n",
       "      <td>4</td>\n",
       "      <td>0.366480</td>\n",
       "      <td>712</td>\n",
       "      <td>212</td>\n",
       "      <td>712</td>\n",
       "      <td>212</td>\n",
       "      <td>712</td>\n",
       "      <td>212</td>\n",
       "      <td>711</td>\n",
       "      <td>216</td>\n",
       "      <td>0.0</td>\n",
       "    </tr>\n",
       "  </tbody>\n",
       "</table>\n",
       "</div>"
      ],
      "text/plain": [
       "   Unnamed: 0  Frame      Time  X-Centroid  Y-Centroid  X-Head  Y-Head  \\\n",
       "0           0      0  0.000000         711         216     711     216   \n",
       "1           1      1  0.000000         711         213     711     213   \n",
       "2           2      2  0.299847         712         212     712     212   \n",
       "3           3      3  0.333166         711         213     711     213   \n",
       "4           4      4  0.366480         712         212     712     212   \n",
       "\n",
       "   X-Tail  Y-Tail  X-Midpoint  Y-Midpoint  stimulation  \n",
       "0     711     216         709         221          0.0  \n",
       "1     711     213         711         217          0.0  \n",
       "2     712     212         714         215          0.0  \n",
       "3     711     213         714         215          0.0  \n",
       "4     712     212         711         216          0.0  "
      ]
     },
     "execution_count": 5,
     "metadata": {},
     "output_type": "execute_result"
    }
   ],
   "source": [
    "data.head()"
   ]
  },
  {
   "cell_type": "code",
   "execution_count": 7,
   "id": "b1c25686",
   "metadata": {
    "scrolled": true
   },
   "outputs": [
    {
     "data": {
      "text/plain": [
       "712"
      ]
     },
     "execution_count": 7,
     "metadata": {},
     "output_type": "execute_result"
    }
   ],
   "source": [
    "Xhead[2]"
   ]
  },
  {
   "cell_type": "markdown",
   "id": "a662833f",
   "metadata": {},
   "source": [
    "### Outline\n",
    "1. identify first start and end points of a blink (assuming all starts point will be correct to begin with)\n",
    "    - frame right before blink and frame right after it ends\n",
    "    - store start and end in 2 separate lists\n",
    "2. create 2 vectors from tail to head -> 1 for start pt and 1 for end pt\n",
    "    - compare angles of the 2 vectors using Zainab's angle function \n",
    "3. identify which portions need to be swapped\n",
    "    - if angle < 90 then find next start/end points\n",
    "4. if angle > 90 then end point is an error\n",
    "    - SAVE that point and it will be our new \"start\" point\n",
    "    - now we want to find ending of NEXT blink and compare the angles if > 90 then it switches back so we swap everything in between\n",
    "5. if angle < 90 for new comparison then we look for next blink"
   ]
  },
  {
   "cell_type": "markdown",
   "id": "f045026b",
   "metadata": {},
   "source": [
    "## Create Basic Functions"
   ]
  },
  {
   "cell_type": "code",
   "execution_count": 4,
   "id": "458b9d55",
   "metadata": {},
   "outputs": [],
   "source": [
    "# find full position frame right before first blink (need full position frames so we can create vectors)\n",
    "def find_start_blink(current, xc, yc, xh, yh, xt, yt, frames):\n",
    "    for i in range(current, len(frames)):\n",
    "        if (xc[i] == xh[i] == xt[i] != 0) and (yc[i] == yh[i] == yt[i] != 0):\n",
    "            return i    \n",
    "    return i-1"
   ]
  },
  {
   "cell_type": "code",
   "execution_count": 53,
   "id": "e5b6e9f0",
   "metadata": {
    "scrolled": true
   },
   "outputs": [
    {
     "data": {
      "text/plain": [
       "3553"
      ]
     },
     "execution_count": 53,
     "metadata": {},
     "output_type": "execute_result"
    }
   ],
   "source": [
    "find_start_blink(3547, Xcentroid, Ycentroid, Xhead, Yhead, Xtail, Ytail, frames)"
   ]
  },
  {
   "cell_type": "code",
   "execution_count": 19,
   "id": "c7eec729",
   "metadata": {},
   "outputs": [
    {
     "data": {
      "text/plain": [
       "9540"
      ]
     },
     "execution_count": 19,
     "metadata": {},
     "output_type": "execute_result"
    }
   ],
   "source": [
    "len(frames)"
   ]
  },
  {
   "cell_type": "code",
   "execution_count": 6,
   "id": "9bcfe462",
   "metadata": {},
   "outputs": [],
   "source": [
    "# find full position frame right after last blink \n",
    "def find_end_blink(start, xc, yc, xh, yh, xt, yt, frames):\n",
    "    for i in range(start, len(frames)):\n",
    "        if (xc[i] == xh[i] == xt[i] != 0) and (yc[i] == yh[i] == yt[i] != 0):\n",
    "            continue\n",
    "            \n",
    "        ### HJ: just in case that it reaches the end\n",
    "        elif (i == len(frames) - 1):\n",
    "            return i\n",
    "        ###\n",
    "        \n",
    "        else:\n",
    "            return i\n",
    "\n",
    "# beware when using this function, the starting point must be the first frame blink occurs (not the one right before)"
   ]
  },
  {
   "cell_type": "code",
   "execution_count": 49,
   "id": "2679d92f",
   "metadata": {
    "scrolled": true
   },
   "outputs": [
    {
     "data": {
      "text/plain": [
       "3547"
      ]
     },
     "execution_count": 49,
     "metadata": {},
     "output_type": "execute_result"
    }
   ],
   "source": [
    "find_end_blink(3546, Xcentroid, Ycentroid, Xhead, Yhead, Xtail, Ytail, frames)\n"
   ]
  },
  {
   "cell_type": "code",
   "execution_count": 52,
   "id": "46786bb7",
   "metadata": {
    "scrolled": true
   },
   "outputs": [
    {
     "data": {
      "text/plain": [
       "3547"
      ]
     },
     "execution_count": 52,
     "metadata": {},
     "output_type": "execute_result"
    }
   ],
   "source": [
    "find_end_blink(3547, Xcentroid, Ycentroid, Xhead, Yhead, Xtail, Ytail, frames)"
   ]
  },
  {
   "cell_type": "code",
   "execution_count": 14,
   "id": "71adc552",
   "metadata": {},
   "outputs": [],
   "source": [
    "# angle between two vectors (in radians)\n",
    "def compare_angle(start, end, xc, yc, xh, yh, xt, yt, frames):\n",
    "    # vector = (xh[i]-xt[i], yh[i]-yt[i])\n",
    "    v1 = [xh[start-1]-xt[start-1], yh[start-1]-yt[start-1]]\n",
    "    v2 = [xh[end+1]-xt[end+1], yh[end+1]-yt[end+1]]\n",
    "    \n",
    "    ### HJ: just to make sure that the denominator is not 0 (like blink but not the locations don't change)\n",
    "    if (np.linalg.norm(v1) * np.linalg.norm(v2) == 0):\n",
    "        return 0\n",
    "    ###\n",
    "    \n",
    "    unit_v1 = v1 / np.linalg.norm(v1)\n",
    "    unit_v2 = v2 / np.linalg.norm(v2)\n",
    "    \n",
    "    dot_product = np.dot(unit_v1, unit_v2)\n",
    "    angle = np.arccos(dot_product)\n",
    "    \n",
    "    return angle"
   ]
  },
  {
   "cell_type": "code",
   "execution_count": 55,
   "id": "3d373332",
   "metadata": {
    "scrolled": true
   },
   "outputs": [
    {
     "data": {
      "text/plain": [
       "3.0251858274850982"
      ]
     },
     "execution_count": 55,
     "metadata": {},
     "output_type": "execute_result"
    }
   ],
   "source": [
    "compare_angle(3547+1,3553,Xcentroid, Ycentroid, Xhead, Yhead, Xtail, Ytail, frames)"
   ]
  },
  {
   "cell_type": "code",
   "execution_count": 78,
   "id": "e354a1a3",
   "metadata": {},
   "outputs": [],
   "source": [
    "# helper function to find end of error\n",
    "def find_end_of_error(start, end, xc, yc, xh, yh, xt, yt, frame):\n",
    "    # adjust start and end to full position frames not blinking frames\n",
    "    start = start - 1\n",
    "    end = end ### HJ: This could be problematic if your end frame reaches the \"frame end range\"\n",
    "    \n",
    "    # assume it's greater than pi/2\n",
    "    counter = 1\n",
    "    found_end = False \n",
    "    \n",
    "    while found_end == False:\n",
    "        if counter % 2 != 0:\n",
    "            \n",
    "            start = end\n",
    "            end = find_start_blink(end, xc, yc, xh, yh, xt, yt, frame)  ### HJ: what if no blink? (last one)\n",
    "            angle = compare_angle(start, end, xc, yc, xh, yh, xt, yt, frame)\n",
    "            if angle > pi/2:\n",
    "                end_of_error = end\n",
    "                found_end = True\n",
    "                continue\n",
    "                \n",
    "        ### HJ: what is the difference - oh end_blink?\n",
    "        ###\n",
    "        \n",
    "        else: \n",
    "            \n",
    "            start = end\n",
    "            end = find_end_blink(end, xc, yc, xh, yh, xt, yt, frame)\n",
    "            angle = (compare_angle(start, end, xc, yc, xh, yh, xt, yt, frame))\n",
    "            if angle > pi/2:\n",
    "                end_of_error = end\n",
    "                found_end = True\n",
    "                continue\n",
    "        \n",
    "        counter += 1 \n",
    "    return end_of_error\n"
   ]
  },
  {
   "cell_type": "code",
   "execution_count": 57,
   "id": "35b0aead",
   "metadata": {},
   "outputs": [
    {
     "data": {
      "text/plain": [
       "3553"
      ]
     },
     "execution_count": 57,
     "metadata": {},
     "output_type": "execute_result"
    }
   ],
   "source": [
    "find_end_of_error(3546, 3547, Xcentroid, Ycentroid, Xhead, Yhead, Xtail, Ytail, frames) # should output 3553"
   ]
  },
  {
   "cell_type": "markdown",
   "id": "9081cccd",
   "metadata": {},
   "source": [
    "# Main Function\n",
    "Combining all previous helper functions (find_start_blink, find_end_blink, compare_angle, find_end_of_error)"
   ]
  },
  {
   "cell_type": "code",
   "execution_count": 79,
   "id": "91c873dd",
   "metadata": {},
   "outputs": [],
   "source": [
    "# main function that swaps the coordinates\n",
    "def ht_correction(filename, current, xc, yc, xh, yh, xt, yt, frame):\n",
    "    # setting up\n",
    "    finish_swap = False\n",
    "    \n",
    "    xheadCorrected = xh.copy()\n",
    "    yheadCorrected = yh.copy()\n",
    "    xtailCorrected = xt.copy()\n",
    "    ytailCorrected = yt.copy()\n",
    "    \n",
    "    start = find_start_blink(current, xc, yc, xh, yh, xt, yt, frame) \n",
    "    end = find_end_blink(start, xc, yc, xh, yh, xt, yt, frame) \n",
    "    angle = compare_angle(start, end, xc, yc, xh, yh, xt, yt, frame) \n",
    "    \n",
    "    while finish_swap == False:\n",
    "        \n",
    "        if angle > (pi/2):\n",
    "            # goes through one whole blink that has an ERROR and swapped necessary coordaintes\n",
    "            start_of_error = end \n",
    "            end_of_error = find_end_of_error(start, end, xc, yc, xh, yh, xt, yt, frame) \n",
    "\n",
    "            xheadCorrected[start_of_error:end_of_error+1] = xt[start_of_error:end_of_error+1]\n",
    "            yheadCorrected[start_of_error:end_of_error+1] = yt[start_of_error:end_of_error+1]\n",
    "            xtailCorrected[start_of_error:end_of_error+1] = xh[start_of_error:end_of_error+1]\n",
    "            ytailCorrected[start_of_error:end_of_error+1] = yh[start_of_error:end_of_error+1]\n",
    "            \n",
    "            ### HJ: you don't need this if you are doing the whole trajectory\n",
    "            #   you can plot the whole thing\n",
    "            ###\n",
    "            \n",
    "            # update current to check next blink\n",
    "            current = end_of_error\n",
    "            \n",
    "            # reset to beginning of while loop\n",
    "            start = find_start_blink(current, xc, yc, xh, yh, xt, yt, frame)\n",
    "            end = find_end_blink(start, xc, yc, xh, yh, xt, yt, frame)\n",
    "            angle = compare_angle(start, end, xc, yc, xh, yh, xt, yt, frame)\n",
    "            \n",
    "            # check to see if it reached end of frames\n",
    "            if start == end == len(frame)-2:\n",
    "                finish_swap = True\n",
    "        \n",
    "            continue\n",
    "        \n",
    "        # if the swap is a blink but NOT AN ERROR we need to move onto next blink\n",
    "        else:\n",
    "            \n",
    "            # update current to check next blink\n",
    "            current = end \n",
    "                \n",
    "            start = find_start_blink(current, xc, yc, xh, yh, xt, yt, frame) \n",
    "            end = find_end_blink(start, xc, yc, xh, yh, xt, yt, frame)\n",
    "            angle = compare_angle(start, end, xc, yc, xh, yh, xt, yt, frame)\n",
    "            \n",
    "            if start == end == len(frame)-2:\n",
    "                finish_swap = True\n",
    "            \n",
    "            continue\n",
    "            \n",
    "    \n",
    "#     # plot trajectory\n",
    "#     fig, (ax1,ax2) = plt.subplots(1,2)\n",
    "#     ax1.plot(xh_p, yh_p, \"o\", label=\"head\") # blue\n",
    "#     ax1.plot(xt_p, yt_p, \"o\", label=\"tail\") # orange\n",
    "#     plt.title(\"trajectory before HT error correction\")\n",
    "    \n",
    "#     ax2.plot(xheadCorrected, yheadCorrected, \"o\",label=\"head\") # blue\n",
    "#     ax2.plot(xtailCorrected, ytailCorrected, \"o\",label=\"tail\") # orange\n",
    "#     plt.title(\"trajectory after HT error correction\")\n",
    "    \n",
    "#     # plt.legend(loc=\"upper left\")\n",
    "#     plt.show\n",
    "    \n",
    "    # plot trajectory\n",
    "    fig, (ax1,ax2) = plt.subplots(1,2)\n",
    "    ax1.plot(xh, yh, label=\"head\") # blue\n",
    "    ax1.plot(xt, yt, label=\"tail\") # orange\n",
    "    plt.title(\"trajectory before HT error correction\")\n",
    "    \n",
    "    ax2.plot(xheadCorrected, yheadCorrected,label=\"head\") # blue\n",
    "    ax2.plot(xtailCorrected, ytailCorrected,label=\"tail\") # orange\n",
    "    plt.title(\"trajectory after HT error correction\")\n",
    "    \n",
    "    # plt.legend(loc=\"upper left\")\n",
    "    plt.show\n",
    "    \n",
    "    #filename for the corrected file:\n",
    "    fileparts = filename.split('.')\n",
    "    first_part = '.'.join(fileparts[0:len(fileparts) - 1])\n",
    "    second_part = \"_HTcorrected1\"\n",
    "    filename_corrected = '.'.join([first_part + second_part, fileparts[-1]]) #a way to rename the corrected file\n",
    "    #below is a way to name the heading (first) row of the new csv file:\n",
    "    newCorrectedArray = {\n",
    "        #'xCentroid' : list(np.round(xc,decimals=1)),\n",
    "        #'yCentroid' : list(np.round(xc,decimals=1)),\n",
    "        'xHeadCorrected' : xheadCorrected,\n",
    "        'yHeadCorrected' : yheadCorrected,\n",
    "        'xTailCorrected' : xtailCorrected,\n",
    "        'yTailCorrected' : ytailCorrected\n",
    "    }\n",
    "    #putting the actual data of corrected xy values in the array first:\n",
    "    df = pd.DataFrame(newCorrectedArray)\n",
    "    #and then put it in a csv of the new filename:\n",
    "    df.to_csv(filename_corrected)"
   ]
  },
  {
   "cell_type": "markdown",
   "id": "38484fa8",
   "metadata": {},
   "source": [
    "## Testing Code"
   ]
  },
  {
   "cell_type": "code",
   "execution_count": 12,
   "id": "2fca2313",
   "metadata": {},
   "outputs": [],
   "source": [
    "# create subset of frames\n",
    "Xcentroid1 = Xcentroid[3690:6300]\n",
    "Ycentroid1 = Ycentroid[3690:6300]\n",
    "Xhead1 = Xhead[3690:6300]\n",
    "Yhead1 = Yhead[3690:6300]\n",
    "Xtail1 = Xtail[3690:6300]\n",
    "Ytail1 = Ytail[3690:6300]\n",
    "frames1 = frames[3690:6300]"
   ]
  },
  {
   "cell_type": "code",
   "execution_count": 13,
   "id": "3d28ca56",
   "metadata": {},
   "outputs": [],
   "source": [
    "# create subset of processed data\n",
    "Xtail1_p = Xtail_p[3690:6300]\n",
    "Xhead1_p = Xhead_p[3690:6300]\n",
    "Ytail1_p = Ytail_p[3690:6300]\n",
    "Yhead1_p = Yhead_p[3690:6300]"
   ]
  },
  {
   "cell_type": "code",
   "execution_count": 14,
   "id": "3373938c",
   "metadata": {
    "scrolled": false
   },
   "outputs": [
    {
     "name": "stderr",
     "output_type": "stream",
     "text": [
      "/var/folders/3g/vjzcw6050n34kshmr3dgry980000gp/T/ipykernel_92449/2722634329.py:16: RuntimeWarning: invalid value encountered in arccos\n",
      "  angle = np.arccos(dot_product)\n"
     ]
    },
    {
     "data": {
      "image/png": "[encoded data removed]",
      "text/plain": [
       "<Figure size 432x288 with 2 Axes>"
      ]
     },
     "metadata": {
      "needs_background": "light"
     },
     "output_type": "display_data"
    }
   ],
   "source": [
    "ht_correction(3690, 6270, filename, 3690, Xcentroid1, Ycentroid1, Xhead1, Yhead1, Xtail1, Ytail1, Xhead1_p, Yhead1_p, Xtail1_p, Ytail1_p, frames)\n"
   ]
  },
  {
   "cell_type": "code",
   "execution_count": 80,
   "id": "e4a8f449",
   "metadata": {
    "scrolled": true
   },
   "outputs": [
    {
     "data": {
      "image/png": "[encoded data removed]",
      "text/plain": [
       "<Figure size 432x288 with 2 Axes>"
      ]
     },
     "metadata": {
      "needs_background": "light"
     },
     "output_type": "display_data"
    }
   ],
   "source": [
    "ht_correction(filename, 5, Xcentroid, Ycentroid, Xhead, Yhead, Xtail, Ytail, frames)"
   ]
  },
  {
   "cell_type": "code",
   "execution_count": 33,
   "id": "0059da88",
   "metadata": {},
   "outputs": [],
   "source": [
    "# test on another file to make sure \n",
    "\n",
    "data1 = pd.read_csv('2021.10.04_15-08-01_W1118 Odor/2021.10.04_15-08-01_data.csv')\n",
    "filename1 = \"2021.10.04_15-08-01_data.csv\"\n",
    "\n",
    "# filtering unprocessed data\n",
    "Xcentroid1 = pd.Series(data1['X-Centroid'])\n",
    "Ycentroid1 = pd.Series(data1['Y-Centroid'])\n",
    "Xhead1 = pd.Series(data1['X-Head'])\n",
    "Yhead1 = pd.Series(data1['Y-Head'])\n",
    "Xtail1 = pd.Series(data1['X-Tail'])\n",
    "Ytail1 = pd.Series(data1['Y-Tail'])\n",
    "frames1 = pd.Series(data1['Frame'])"
   ]
  },
  {
   "cell_type": "code",
   "execution_count": 46,
   "id": "e783ea4f",
   "metadata": {
    "scrolled": true
   },
   "outputs": [
    {
     "data": {
      "text/html": [
       "<div>\n",
       "<style scoped>\n",
       "    .dataframe tbody tr th:only-of-type {\n",
       "        vertical-align: middle;\n",
       "    }\n",
       "\n",
       "    .dataframe tbody tr th {\n",
       "        vertical-align: top;\n",
       "    }\n",
       "\n",
       "    .dataframe thead th {\n",
       "        text-align: right;\n",
       "    }\n",
       "</style>\n",
       "<table border=\"1\" class=\"dataframe\">\n",
       "  <thead>\n",
       "    <tr style=\"text-align: right;\">\n",
       "      <th></th>\n",
       "      <th>Unnamed: 0</th>\n",
       "      <th>Frame</th>\n",
       "      <th>Time</th>\n",
       "      <th>X-Centroid</th>\n",
       "      <th>Y-Centroid</th>\n",
       "      <th>X-Head</th>\n",
       "      <th>Y-Head</th>\n",
       "      <th>X-Tail</th>\n",
       "      <th>Y-Tail</th>\n",
       "      <th>X-Midpoint</th>\n",
       "      <th>Y-Midpoint</th>\n",
       "      <th>stimulation</th>\n",
       "    </tr>\n",
       "  </thead>\n",
       "  <tbody>\n",
       "    <tr>\n",
       "      <th>0</th>\n",
       "      <td>0</td>\n",
       "      <td>0</td>\n",
       "      <td>0.000000</td>\n",
       "      <td>508</td>\n",
       "      <td>255</td>\n",
       "      <td>508</td>\n",
       "      <td>255</td>\n",
       "      <td>508</td>\n",
       "      <td>255</td>\n",
       "      <td>517</td>\n",
       "      <td>255</td>\n",
       "      <td>0.0</td>\n",
       "    </tr>\n",
       "    <tr>\n",
       "      <th>1</th>\n",
       "      <td>1</td>\n",
       "      <td>1</td>\n",
       "      <td>0.000000</td>\n",
       "      <td>507</td>\n",
       "      <td>255</td>\n",
       "      <td>507</td>\n",
       "      <td>255</td>\n",
       "      <td>507</td>\n",
       "      <td>255</td>\n",
       "      <td>518</td>\n",
       "      <td>255</td>\n",
       "      <td>0.0</td>\n",
       "    </tr>\n",
       "    <tr>\n",
       "      <th>2</th>\n",
       "      <td>2</td>\n",
       "      <td>2</td>\n",
       "      <td>0.333163</td>\n",
       "      <td>506</td>\n",
       "      <td>258</td>\n",
       "      <td>506</td>\n",
       "      <td>258</td>\n",
       "      <td>506</td>\n",
       "      <td>258</td>\n",
       "      <td>513</td>\n",
       "      <td>256</td>\n",
       "      <td>0.0</td>\n",
       "    </tr>\n",
       "    <tr>\n",
       "      <th>3</th>\n",
       "      <td>3</td>\n",
       "      <td>3</td>\n",
       "      <td>0.366478</td>\n",
       "      <td>506</td>\n",
       "      <td>258</td>\n",
       "      <td>506</td>\n",
       "      <td>258</td>\n",
       "      <td>506</td>\n",
       "      <td>258</td>\n",
       "      <td>515</td>\n",
       "      <td>256</td>\n",
       "      <td>0.0</td>\n",
       "    </tr>\n",
       "    <tr>\n",
       "      <th>4</th>\n",
       "      <td>4</td>\n",
       "      <td>4</td>\n",
       "      <td>0.399795</td>\n",
       "      <td>506</td>\n",
       "      <td>258</td>\n",
       "      <td>506</td>\n",
       "      <td>258</td>\n",
       "      <td>506</td>\n",
       "      <td>258</td>\n",
       "      <td>515</td>\n",
       "      <td>256</td>\n",
       "      <td>0.0</td>\n",
       "    </tr>\n",
       "  </tbody>\n",
       "</table>\n",
       "</div>"
      ],
      "text/plain": [
       "   Unnamed: 0  Frame      Time  X-Centroid  Y-Centroid  X-Head  Y-Head  \\\n",
       "0           0      0  0.000000         508         255     508     255   \n",
       "1           1      1  0.000000         507         255     507     255   \n",
       "2           2      2  0.333163         506         258     506     258   \n",
       "3           3      3  0.366478         506         258     506     258   \n",
       "4           4      4  0.399795         506         258     506     258   \n",
       "\n",
       "   X-Tail  Y-Tail  X-Midpoint  Y-Midpoint  stimulation  \n",
       "0     508     255         517         255          0.0  \n",
       "1     507     255         518         255          0.0  \n",
       "2     506     258         513         256          0.0  \n",
       "3     506     258         515         256          0.0  \n",
       "4     506     258         515         256          0.0  "
      ]
     },
     "execution_count": 46,
     "metadata": {},
     "output_type": "execute_result"
    }
   ],
   "source": [
    "data1.head()"
   ]
  },
  {
   "cell_type": "code",
   "execution_count": 36,
   "id": "2eb74224",
   "metadata": {
    "scrolled": true
   },
   "outputs": [
    {
     "data": {
      "image/png": "[encoded data removed]",
      "text/plain": [
       "<Figure size 432x288 with 2 Axes>"
      ]
     },
     "metadata": {
      "needs_background": "light"
     },
     "output_type": "display_data"
    }
   ],
   "source": [
    "ht_correction(filename1, 2200, Xcentroid1, Ycentroid1, Xhead1, Yhead1, Xtail1, Ytail1, frames1)"
   ]
  },
  {
   "cell_type": "code",
   "execution_count": 52,
   "id": "3cc0579d",
   "metadata": {},
   "outputs": [
    {
     "data": {
      "text/plain": [
       "9540"
      ]
     },
     "execution_count": 52,
     "metadata": {},
     "output_type": "execute_result"
    }
   ],
   "source": [
    "len(frames1)"
   ]
  },
  {
   "cell_type": "code",
   "execution_count": 49,
   "id": "ad2582e7",
   "metadata": {},
   "outputs": [
    {
     "data": {
      "text/plain": [
       "9538"
      ]
     },
     "execution_count": 49,
     "metadata": {},
     "output_type": "execute_result"
    }
   ],
   "source": [
    "find_start_blink(9435, Xcentroid1, Ycentroid1, Xhead1, Yhead1, Xtail1, Ytail1, frames1)"
   ]
  },
  {
   "cell_type": "code",
   "execution_count": 51,
   "id": "bb0cc5f3",
   "metadata": {},
   "outputs": [
    {
     "data": {
      "text/plain": [
       "9538"
      ]
     },
     "execution_count": 51,
     "metadata": {},
     "output_type": "execute_result"
    }
   ],
   "source": [
    "find_end_blink(9538, Xcentroid1, Ycentroid1, Xhead1, Yhead1, Xtail1, Ytail1, frames1)"
   ]
  },
  {
   "cell_type": "code",
   "execution_count": 34,
   "id": "bc51add7",
   "metadata": {},
   "outputs": [],
   "source": [
    "# test on another file\n",
    "data2 = pd.read_csv('2021.09.08_15-46-15_W1118_Solvent/2021.09.08_15-46-15_data.csv')\n",
    "filename2 = \"2021.09.08_15-46-15_data.csv\"\n",
    "\n",
    "# filtering unprocessed data\n",
    "Xcentroid2 = pd.Series(data1['X-Centroid'])\n",
    "Ycentroid2 = pd.Series(data1['Y-Centroid'])\n",
    "Xhead2 = pd.Series(data1['X-Head'])\n",
    "Yhead2 = pd.Series(data1['Y-Head'])\n",
    "Xtail2 = pd.Series(data1['X-Tail'])\n",
    "Ytail2 = pd.Series(data1['Y-Tail'])\n",
    "frames2 = pd.Series(data1['Frame'])"
   ]
  },
  {
   "cell_type": "code",
   "execution_count": 56,
   "id": "8cd476b2",
   "metadata": {},
   "outputs": [
    {
     "data": {
      "text/html": [
       "<div>\n",
       "<style scoped>\n",
       "    .dataframe tbody tr th:only-of-type {\n",
       "        vertical-align: middle;\n",
       "    }\n",
       "\n",
       "    .dataframe tbody tr th {\n",
       "        vertical-align: top;\n",
       "    }\n",
       "\n",
       "    .dataframe thead th {\n",
       "        text-align: right;\n",
       "    }\n",
       "</style>\n",
       "<table border=\"1\" class=\"dataframe\">\n",
       "  <thead>\n",
       "    <tr style=\"text-align: right;\">\n",
       "      <th></th>\n",
       "      <th>Unnamed: 0</th>\n",
       "      <th>Frame</th>\n",
       "      <th>Time</th>\n",
       "      <th>X-Centroid</th>\n",
       "      <th>Y-Centroid</th>\n",
       "      <th>X-Head</th>\n",
       "      <th>Y-Head</th>\n",
       "      <th>X-Tail</th>\n",
       "      <th>Y-Tail</th>\n",
       "      <th>X-Midpoint</th>\n",
       "      <th>Y-Midpoint</th>\n",
       "      <th>stimulation</th>\n",
       "    </tr>\n",
       "  </thead>\n",
       "  <tbody>\n",
       "    <tr>\n",
       "      <th>0</th>\n",
       "      <td>0</td>\n",
       "      <td>0</td>\n",
       "      <td>0.000000</td>\n",
       "      <td>821</td>\n",
       "      <td>180</td>\n",
       "      <td>821</td>\n",
       "      <td>180</td>\n",
       "      <td>821</td>\n",
       "      <td>180</td>\n",
       "      <td>822</td>\n",
       "      <td>180</td>\n",
       "      <td>0.0</td>\n",
       "    </tr>\n",
       "    <tr>\n",
       "      <th>1</th>\n",
       "      <td>1</td>\n",
       "      <td>1</td>\n",
       "      <td>0.000000</td>\n",
       "      <td>822</td>\n",
       "      <td>181</td>\n",
       "      <td>822</td>\n",
       "      <td>181</td>\n",
       "      <td>822</td>\n",
       "      <td>181</td>\n",
       "      <td>818</td>\n",
       "      <td>181</td>\n",
       "      <td>0.0</td>\n",
       "    </tr>\n",
       "    <tr>\n",
       "      <th>2</th>\n",
       "      <td>2</td>\n",
       "      <td>2</td>\n",
       "      <td>0.166582</td>\n",
       "      <td>824</td>\n",
       "      <td>180</td>\n",
       "      <td>824</td>\n",
       "      <td>180</td>\n",
       "      <td>824</td>\n",
       "      <td>180</td>\n",
       "      <td>825</td>\n",
       "      <td>181</td>\n",
       "      <td>0.0</td>\n",
       "    </tr>\n",
       "    <tr>\n",
       "      <th>3</th>\n",
       "      <td>3</td>\n",
       "      <td>3</td>\n",
       "      <td>0.199897</td>\n",
       "      <td>824</td>\n",
       "      <td>181</td>\n",
       "      <td>824</td>\n",
       "      <td>181</td>\n",
       "      <td>824</td>\n",
       "      <td>181</td>\n",
       "      <td>818</td>\n",
       "      <td>181</td>\n",
       "      <td>0.0</td>\n",
       "    </tr>\n",
       "    <tr>\n",
       "      <th>4</th>\n",
       "      <td>4</td>\n",
       "      <td>4</td>\n",
       "      <td>0.233214</td>\n",
       "      <td>824</td>\n",
       "      <td>181</td>\n",
       "      <td>824</td>\n",
       "      <td>181</td>\n",
       "      <td>824</td>\n",
       "      <td>181</td>\n",
       "      <td>824</td>\n",
       "      <td>181</td>\n",
       "      <td>0.0</td>\n",
       "    </tr>\n",
       "  </tbody>\n",
       "</table>\n",
       "</div>"
      ],
      "text/plain": [
       "   Unnamed: 0  Frame      Time  X-Centroid  Y-Centroid  X-Head  Y-Head  \\\n",
       "0           0      0  0.000000         821         180     821     180   \n",
       "1           1      1  0.000000         822         181     822     181   \n",
       "2           2      2  0.166582         824         180     824     180   \n",
       "3           3      3  0.199897         824         181     824     181   \n",
       "4           4      4  0.233214         824         181     824     181   \n",
       "\n",
       "   X-Tail  Y-Tail  X-Midpoint  Y-Midpoint  stimulation  \n",
       "0     821     180         822         180          0.0  \n",
       "1     822     181         818         181          0.0  \n",
       "2     824     180         825         181          0.0  \n",
       "3     824     181         818         181          0.0  \n",
       "4     824     181         824         181          0.0  "
      ]
     },
     "execution_count": 56,
     "metadata": {},
     "output_type": "execute_result"
    }
   ],
   "source": [
    "data2.head()"
   ]
  },
  {
   "cell_type": "code",
   "execution_count": 81,
   "id": "14d4b8e6",
   "metadata": {
    "scrolled": false
   },
   "outputs": [
    {
     "data": {
      "image/png": "[encoded data removed]",
      "text/plain": [
       "<Figure size 432x288 with 2 Axes>"
      ]
     },
     "metadata": {
      "needs_background": "light"
     },
     "output_type": "display_data"
    }
   ],
   "source": [
    "ht_correction(filename2, 100, Xcentroid2, Ycentroid2, Xhead2, Yhead2, Xtail2, Ytail2, frames2)"
   ]
  },
  {
   "cell_type": "code",
   "execution_count": 59,
   "id": "7beb020d",
   "metadata": {},
   "outputs": [
    {
     "data": {
      "text/plain": [
       "9538"
      ]
     },
     "execution_count": 59,
     "metadata": {},
     "output_type": "execute_result"
    }
   ],
   "source": [
    "find_start_blink(9435, Xcentroid2, Ycentroid2, Xhead2, Yhead2, Xtail2, Ytail2, frames2)"
   ]
  },
  {
   "cell_type": "markdown",
   "id": "163fa961",
   "metadata": {},
   "source": [
    "## Han's Filter"
   ]
  },
  {
   "cell_type": "code",
   "execution_count": 21,
   "id": "84f2415d",
   "metadata": {},
   "outputs": [],
   "source": [
    "from pathlib import Path\n",
    "import os\n",
    "import pandas as pd\n",
    "import numpy as np\n",
    "from scipy import signal\n",
    "import matplotlib.pyplot as plt\n",
    "import json\n",
    "import tkinter \n",
    "\n",
    "def process_pivr_csvfile_with_raw_version2(pathinfo, csvdata, filename):\n",
    "    os.chdir(pathinfo)\n",
    "    exp_settings = open('experiment_settings.json')  # insert path to experiment settings file.\n",
    "    exp_set = json.load(exp_settings)\n",
    "    px_per_mm = exp_set[\"Pixel per mm\"]\n",
    "    framerate = exp_set[\"Framerate\"]\n",
    "    xhraw = csvdata['X-Head']  # for ht err corr reference later in ht module below.\n",
    "    yhraw = csvdata['Y-Head']\n",
    "    xtraw = csvdata['X-Tail']\n",
    "    ytraw = csvdata['Y-Tail']\n",
    "    if np.isnan(csvdata['Time'][len(csvdata) - 1]):  # dropping the last row as it is incomplete in some files.\n",
    "        csvdata = csvdata[:-1]\n",
    "\n",
    "    ###hard coded variables:\n",
    "    winsize = 61  # window size for SG filter.\n",
    "    p_order = 4  # polynomial order between 2-4 is ok for SG filter. Currently, SG filter is the only filter option here\n",
    "\n",
    "    def SG_filter(arr, winsize, p_order):  # currently, the only filter option in this script.\n",
    "        arrfilt = signal.savgol_filter(arr, winsize, p_order)\n",
    "        return arrfilt\n",
    "\n",
    "    def remove_0rows_from_file(file):\n",
    "        def find_indices_with_num(arr, num):\n",
    "            # zero_locations = np.where(arr == 0)\n",
    "            locations = []\n",
    "            for k in range(len(arr)):\n",
    "                if arr[k] == num:\n",
    "                    locations.append(k)\n",
    "            return locations\n",
    "        t = file['Time']\n",
    "        locations = find_indices_with_num(t, 0)\n",
    "        newfile = file.drop(file.index[locations])\n",
    "        return newfile\n",
    "\n",
    "    csvdata2 = remove_0rows_from_file(csvdata)  # storing original data without 0s rows in the time col.\n",
    "\n",
    "    def get_filtered_file_cols(file):\n",
    "        xcfilt = SG_filter(file['X-Centroid'], winsize, p_order)\n",
    "        ycfilt = SG_filter(file['Y-Centroid'], winsize, p_order)\n",
    "        xhfilt = SG_filter(file['X-Head'], winsize, p_order)\n",
    "        yhfilt = SG_filter(file['Y-Head'], winsize, p_order)\n",
    "        xtfilt = SG_filter(file['X-Tail'], winsize, p_order)\n",
    "        ytfilt = SG_filter(file['Y-Tail'], winsize, p_order)\n",
    "        xmfilt = SG_filter(file['X-Midpoint'], winsize, p_order)\n",
    "        ymfilt = SG_filter(file['Y-Midpoint'], winsize, p_order)\n",
    "        return xcfilt, ycfilt, xhfilt, yhfilt, xtfilt, ytfilt, xmfilt, ymfilt\n",
    "\n",
    "    # storing filtered cols from csvdata2 (0s rows removed dataframe) -\n",
    "    xcfilt, ycfilt, xhfilt, yhfilt, xtfilt, ytfilt, xmfilt, ymfilt = get_filtered_file_cols(csvdata2)\n",
    "\n",
    "    def remove_edge_noise_from_file(x, y):\n",
    "        height = 3 / px_per_mm  # threshold incremental dist value to find jumps(empirical observations on a few files).\n",
    "        range_lower = 0.07 / px_per_mm  # highres. lower range for data (incremental distance)\n",
    "        range_upper = 0.3 / px_per_mm  # highres. upper range for data (incremental dis)\n",
    "        min_traj_len = 10 * framerate  # seconds*frame per second. minimum trajectory length between heights.\n",
    "        #THE VARIABLE BELOW () IS FINE-TUNEABLE that is, it can be modified as directed below in speific cases:\n",
    "        max_ok_separation = 4.5 * framerate#sec*fps (frames) acceptable separation limit between segments for stitching.\n",
    "        # TWEAK 'max_ok_separation' PARAMETER FOR FINE TUNING THE THRESHOLD FOR ARENA EDGE/BEGINNING NOISE.\n",
    "        # for high noise acceptance->max-ok-sep(>3 or about 4.5); for very tight control on taking the trajectories at\n",
    "        # the risk of truncating the trajectories too short, aim for max_ok_sep. values around 1 (0.75, 1.2, 1.5 etc).\n",
    "        # My suggestion is -  start with 4.5 to get large usable trajectories and in specific cases where the boundary\n",
    "        # noise doesn't go away properly, reduce the max_ok_separation to 1.5 or 1.2 or even less to see if that removes\n",
    "        # the extra noise.\n",
    "        # CHANGE THE FINE-TUNABLE VARIABLES ONLY FOR SPECIFIC CASES AND NOT FOR THE ENTIRE DATA SET.\n",
    "        def increment_dis(x, y):\n",
    "            dx = np.diff(x)\n",
    "            dy = np.diff(y)\n",
    "            id = ((dx) ** 2 + (dy) ** 2) ** (1 / 2)\n",
    "            # for keeping the array length same with original\n",
    "            np.insert(id, 0, 0)\n",
    "            return id\n",
    "\n",
    "        def find_inter_condition_segment_locations(arr, condition, symbol):  # symbol could be '>', '<' or '='\n",
    "            conditional_locations = []\n",
    "            for k in range(len(arr)):\n",
    "                if symbol == '=' and arr[k] == condition:\n",
    "                    conditional_locations.append(k)\n",
    "                if symbol == '>' and arr[k] > condition:\n",
    "                    conditional_locations.append(k)\n",
    "                    # print(conditional_locations)\n",
    "                if symbol == '<' and arr[k] < condition:\n",
    "                    conditional_locations.append(k)\n",
    "            # if last frame is not included\n",
    "            if not np.any(conditional_locations):\n",
    "                print('no edge noise or jumps in ' + filename)\n",
    "                conditional_locations = []\n",
    "            else:\n",
    "                if conditional_locations[-1] != len(arr) - 1 and conditional_locations != []:\n",
    "                    conditional_locations.append(len(arr) - 1)  # to include the last frame if it is not already included\n",
    "                 # if initial frame to be included\n",
    "                if conditional_locations[0] != 0 and conditional_locations != []:\n",
    "                    conditional_locations.insert(0, 0)  # to include the first frame if it is not already included\n",
    "            # print('cloci-last element: ' + str(len(conditional_locations)))\n",
    "            #print('conditional_locations' + str(conditional_locations))\n",
    "            return conditional_locations  # cond locs returns empty if no extreme values(condition) found.\n",
    "\n",
    "        def selecting_proper_traj_segments(arr, c_loc):  # takes in test-array and conditional_locations\n",
    "            # selecting for min len criterion and range-upper&lower\n",
    "            if c_loc == []:\n",
    "                proper_traj_segment_locations = [0, len(arr)-1]  # take the length of csv file after basic 0s removal.\n",
    "                print('No edge noise or jumps in ' + filename)\n",
    "            elif len(c_loc) == 1:  # if there was only one case of extreme jump\n",
    "                print('conditional_locations is of length 1')\n",
    "            elif len(c_loc) > 1:\n",
    "                # print('c_loc: ' + str(c_loc))\n",
    "                diff_c_loc = np.diff(c_loc)\n",
    "                # print('diff-c-loc: ' + str(diff_c_loc))\n",
    "                # print(diff_c_loc)\n",
    "                arr_collections = []\n",
    "                for k in range(len(diff_c_loc)):  # [1,3]\n",
    "                    if diff_c_loc[k] > min_traj_len and np.mean(arr[c_loc[k]: c_loc[k + 1]]) > range_lower \\\n",
    "                            and np.mean(arr[c_loc[k]:c_loc[k + 1]]) < range_upper:\n",
    "                        arr_collections = arr_collections + [c_loc[k], c_loc[k + 1]]\n",
    "                # print('arr-coll: ' + str(arr_collections))\n",
    "                diff_arr_coll = np.diff(arr_collections)\n",
    "                # print('diff-arr-coll: ' + str(diff_arr_coll))\n",
    "                for j in range(len(diff_arr_coll)):\n",
    "                    if diff_arr_coll[j] < max_ok_separation:  # to avoid breaking traj. for a short dur. noise\n",
    "                        arr_collections[j:j + 2] = []\n",
    "                        # print('arr-coll after removing short: ' + str(arr_collections))\n",
    "                diff2_arr_coll = np.diff(arr_collections)\n",
    "                # print('diff2-arr-coll: ' + str(diff2_arr_coll))\n",
    "                # final traj segment that is proper:\n",
    "                if not np.any(diff2_arr_coll):\n",
    "                    proper_traj_segment_locations = [0, len(arr)-1]\n",
    "                    #print('diff2_arr_coll is empty')\n",
    "                    #exit()\n",
    "                else:\n",
    "                    #print('diff2-arr-coll: ' + str(diff2_arr_coll))\n",
    "                    maxval = max(diff2_arr_coll)\n",
    "                    # print('maxval: ' + str(maxval))\n",
    "                    # print('c loc: ' + str(c_loc))\n",
    "                    # print('arr_coll: ' + str(arr_collections))\n",
    "                    id_tuple = np.where(diff2_arr_coll == maxval)  # it was arr_collections.index(maxval)\n",
    "                    idx = id_tuple[0][0]\n",
    "                    # print(idx)\n",
    "                    proper_traj_segment_locations = [arr_collections[idx],\n",
    "                                                 arr_collections[idx + 1]]  # it was [idx-1] and [idx]\n",
    "            print('proper_traj_segment_locations ' + str(proper_traj_segment_locations))\n",
    "            return proper_traj_segment_locations\n",
    "        \n",
    "        incD = increment_dis((x / px_per_mm), (y / px_per_mm)) # not taking px_per_mm would make the height value\n",
    "                                                               # ineffective.\n",
    "        conditional_loci = find_inter_condition_segment_locations(incD, height, '>')\n",
    "        trajseg = selecting_proper_traj_segments(incD, conditional_loci)  # frames good outside the edge-noise.\n",
    "        return trajseg\n",
    "    \n",
    "    trajseg = remove_edge_noise_from_file(xcfilt, ycfilt)\n",
    "    #print(trajseg)\n",
    "    \n",
    "    newcsvdata = pd.DataFrame({\n",
    "                'Frame': csvdata2['Frame'][trajseg[0]:trajseg[1]],\n",
    "                'Time': csvdata2['Time'][trajseg[0]:trajseg[1]],\n",
    "                'X-Centroid': csvdata2['X-Centroid'][trajseg[0]:trajseg[1]],\n",
    "                'Y-Centroid': csvdata2['Y-Centroid'][trajseg[0]:trajseg[1]],  #\n",
    "                'X-Head': csvdata2['X-Head'][trajseg[0]:trajseg[1]],\n",
    "                'Y-Head': csvdata2['Y-Head'][trajseg[0]:trajseg[1]],\n",
    "                'X-Tail': csvdata2['X-Tail'][trajseg[0]:trajseg[1]],\n",
    "                'Y-Tail': csvdata2['Y-Tail'][trajseg[0]:trajseg[1]],\n",
    "                'X-Midpoint': csvdata2['X-Midpoint'][trajseg[0]:trajseg[1]],\n",
    "                'Y-Midpoint': csvdata2['Y-Midpoint'][trajseg[0]:trajseg[1]],\n",
    "                'stimulation': csvdata2['stimulation'][trajseg[0]:trajseg[1]]\n",
    "            })\n",
    "\n",
    "    #print(newcsvdata[:][1:10])\n",
    "    \n",
    "    \n",
    "    def HT_err_corr_on_file(newcsvdata, filename):\n",
    "        # THE VARIABLES BELOW ARE FINE-TUNEABLE that is, it can be modified as directed below in specific cases:\n",
    "        fraction_body_length = 0.2 #fractions work; keep it less than 1. This threshold can be changed. #Default = 0.2\n",
    "        next_frame_gap = 60  # Use only integer values. gap_value * fps  # for sampling two well apart frames for\n",
    "        # ht-error. This threshold can be changed. #Default next_frame_gap = 60 (twice of fps)\n",
    "        #CHANGE THE FINE-TUNABLE VARIABLES ONLY FOR SPECIFIC CASES AND NOT FOR THE ENTIRE DATA SET.\n",
    "        \n",
    "        ###\n",
    "        csv_raw = newcsvdata.copy()\n",
    "        ###\n",
    "        \n",
    "        class fileIn:\n",
    "            def __init__(self, file):\n",
    "                self.framerate = framerate\n",
    "                self.frame = file['Frame']\n",
    "                self.time = file['Time']\n",
    "                self.xcFilt = signal.savgol_filter(file['X-Centroid'], winsize, p_order)\n",
    "                self.ycFilt = signal.savgol_filter(file['Y-Centroid'], winsize, p_order)\n",
    "                self.xhFilt = signal.savgol_filter(file['X-Head'], winsize, p_order)\n",
    "                self.yhFilt = signal.savgol_filter(file['Y-Head'], winsize, p_order)\n",
    "                self.xtFilt = signal.savgol_filter(file['X-Tail'], winsize, p_order)\n",
    "                self.ytFilt = signal.savgol_filter(file['Y-Tail'], winsize, p_order)\n",
    "                self.xmFilt = signal.savgol_filter(file['X-Midpoint'], winsize, p_order)\n",
    "                self.ymFilt = signal.savgol_filter(file['Y-Midpoint'], winsize, p_order)\n",
    "                self.stimulation = file['stimulation']\n",
    "\n",
    "        # I wrote this tiny function to call the content from the class function above\n",
    "        def filter_PiVRcsvfile():\n",
    "            return fileIn(newcsvdata)\n",
    "        f = filter_PiVRcsvfile()  # this keeps the csv and json variables available to all functions below.\n",
    "\n",
    "        # function to calculate \"max\" body length (Zainab's work)-\n",
    "        def max_body_length(xhead, yhead, xtail, ytail):\n",
    "            HTdist = (((xhead - xtail) ** 2 + (yhead - ytail) ** 2) ** (1 / 2))\n",
    "            bodylength = max(\n",
    "                HTdist)  # find max HT distance to set as the body length#assuming, filtered vales will not have\n",
    "            # erroneous values in the HT length values.\n",
    "            return bodylength\n",
    "\n",
    "        curl_threshold = (fraction_body_length) * max_body_length(f.xhFilt, f.yhFilt, f.xtFilt,\n",
    "                                                 f.ytFilt)  # threshold should be less than 20% body length based\n",
    "                                                            # on Zainab's results.\n",
    "\n",
    "        # this function binarized the array based on whether the animal is curling (1s) or not curling (0s):\n",
    "        def Dis_condition_based_binary_array(x1, y1, x2, y2):\n",
    "            Dht = ((x1 - x2) ** 2 + (y1 - y2) ** 2) ** (1 / 2)\n",
    "            binarized_array = []\n",
    "            \n",
    "            for k in range(len(Dht)):\n",
    "                if Dht[k] < curl_threshold: #CURLING THRESHOLD SHOULD BE OBJECTIVELY DEFINED (earlier it was 3).\n",
    "                    binarized_array.append(1)\n",
    "                else:\n",
    "                    binarized_array.append(0)\n",
    "            # binarized_array.pop(0)\n",
    "            return binarized_array\n",
    "\n",
    "        ba = Dis_condition_based_binary_array(f.xhFilt, f.yhFilt, f.xtFilt,\n",
    "                                              f.ytFilt)  # binary array for curls and no curls.\n",
    "\n",
    "        # print(ba)\n",
    "        # print(len(ba)-1)\n",
    "\n",
    "        # Again I used class(though not necessary and a bit overkill to use class for simple tasks),\n",
    "        # to get the locations of where the curls start and ends (denoted as starts of 0s and ends of 0s etc).\n",
    "        class extractInfoFromBinaryArr:\n",
    "            def __init__(self, binary_arr):\n",
    "                starts0 = []\n",
    "                ends0 = []\n",
    "                starts1 = []\n",
    "                ends1 = []\n",
    "                seglen0 = []\n",
    "                seglen1 = []\n",
    "                for i in range(len(binary_arr) - 1):\n",
    "                    if i == 0 and binary_arr[i] == 0:\n",
    "                        starts0.append(i)\n",
    "                    if i == 0 and binary_arr[i] == 1:\n",
    "                        starts1.append(i)\n",
    "                    if i == len(binary_arr) - 2 and binary_arr[i+1] == 0:\n",
    "                        ends0.append(i + 1)\n",
    "                    if i == len(binary_arr) - 2 and binary_arr[i+1] == 1:\n",
    "                        ends1.append(i + 1)\n",
    "                    if binary_arr[i] == 1 and binary_arr[i + 1] == 0 and i <= (len(binary_arr) - 2):\n",
    "                        starts0.append(i + 1)\n",
    "                        ends1.append(i)\n",
    "                    elif binary_arr[i] == 0 and binary_arr[i + 1] == 1 and i <= (len(binary_arr) - 2):\n",
    "                        ends0.append(i)\n",
    "                        starts1.append(i + 1)\n",
    "                #print('starts0 ' + str(starts0))\n",
    "                #print('ends0 ' + str(ends0))\n",
    "                #print('starts1 ' + str(starts1))\n",
    "                #print('ends1 ' + str(ends1))\n",
    "                seglen0 = np.subtract(np.array(ends0), np.array(starts0))\n",
    "                seglen1 = np.subtract(np.array(ends1), np.array(starts1))\n",
    "                self.starts0 = starts0\n",
    "                self.ends0 = ends0\n",
    "                self.starts1 = starts1\n",
    "                self.ends1 = ends1\n",
    "                self.seglen0 = seglen0\n",
    "                self.seglen1 = seglen1\n",
    "\n",
    "        # same logic as above to extract information from the class method above\n",
    "        def binary_arr_starts_ends():\n",
    "            return extractInfoFromBinaryArr(ba)\n",
    "\n",
    "        ba_f = binary_arr_starts_ends()  # binary array features\n",
    "\n",
    "        # print(binary_arr_features.starts0)\n",
    "\n",
    "        # because we need to calculate distances between two points in 2d a lot, a simple function for this small task:\n",
    "        def dis(x1, y1, x2, y2):\n",
    "            distance = ((x1 - x2) ** 2 + (y1 - y2) ** 2) ** (1 / 2)\n",
    "            return distance\n",
    "\n",
    "        # below is the method which decides if there is an HT exchange error at the beginning of a given inter-curl\n",
    "        # segment. This function takes many inputs and the main function which tests for the presence of ht error is\n",
    "        # written within this function.\n",
    "        def ht_error_correction_module(filename, starts0, ends0, xc, yc, xh, yh, xt, yt, frame, time, xm, ym,\n",
    "                                       stimulation, fps, xhraw, yhraw, xtraw, ytraw):\n",
    "            '''\n",
    "            xheadCorrected = xh.copy()  # xh ###concern that David warned us about #late edit by Nitesh\n",
    "            yheadCorrected = yh.copy()  # yh ###concern that David warned us about\n",
    "            xtailCorrected = xt.copy()  # xt ###concern that David warned us about\n",
    "            ytailCorrected = yt.copy()  # yt ###concern that David warned us about\n",
    "            '''\n",
    "            \n",
    "            ###\n",
    "            newcsvdata_copy = newcsvdata.copy()\n",
    "            xheadCorrected = newcsvdata_copy['X-Head'].to_numpy()\n",
    "            yheadCorrected = newcsvdata_copy['Y-Head'].to_numpy()\n",
    "            xtailCorrected = newcsvdata_copy['X-Tail'].to_numpy()\n",
    "            ytailCorrected = newcsvdata_copy['Y-Tail'].to_numpy()\n",
    "            \n",
    "            xheadCorrected_copy = xheadCorrected.copy()\n",
    "            yheadCorrected_copy = yheadCorrected.copy()\n",
    "            xtailCorrected_copy = xtailCorrected.copy()\n",
    "            ytailCorrected_copy = ytailCorrected.copy()\n",
    "            ###\n",
    "            \n",
    "            # here plotting the figure which has no correction done yet:\n",
    "            fig, (ax1, ax2) = plt.subplots(1, 2)\n",
    "            ax1.plot(xhraw, yhraw, 'r', label='head')\n",
    "            ax1.plot(xtraw, ytraw, 'b', label='tail')\n",
    "            ax1.set_xlabel('x axis')\n",
    "            ax1.set_ylabel('y axis')\n",
    "            ax1.set_title('trajectory before filter and HT error correction')\n",
    "\n",
    "            # this is the main function which tests for the presence of head tail error between two locations of the\n",
    "            # larvae (one position at the beginning of inter curl segment and second frame, 60 steps further down).\n",
    "            def HTerror_corr_method1(fr1, fr2, j):\n",
    "                distance1 = dis(xc[fr1], yc[fr1], xt[fr2], yt[fr2])\n",
    "                distance2 = dis(xc[fr1], yc[fr1], xh[fr2], yh[fr2])\n",
    "                # if error is found, exchange head and tail values thus \"correcting\" the ht error:\n",
    "                if distance1 > distance2:\n",
    "                    ### apply to the raw data\n",
    "                    xheadCorrected[starts0[j]:ends0[j] + 1] = xtailCorrected_copy[starts0[j]:ends0[j] + 1]\n",
    "                    yheadCorrected[starts0[j]:ends0[j] + 1] = ytailCorrected_copy[starts0[j]:ends0[j] + 1]\n",
    "                    xtailCorrected[starts0[j]:ends0[j] + 1] = xheadCorrected_copy[starts0[j]:ends0[j] + 1]\n",
    "                    ytailCorrected[starts0[j]:ends0[j] + 1] = yheadCorrected_copy[starts0[j]:ends0[j] + 1]\n",
    "                    ###\n",
    "\n",
    "            for n in range(len(starts0)):\n",
    "                if starts0[n] + next_frame_gap < len(xc):\n",
    "                    HTerror_corr_method1(starts0[n], starts0[n] + next_frame_gap, n)  # ~60 frames apart between two\n",
    "                    # larval positions, to estimate whether larva has inverted the proper head tail position.\n",
    "                else:\n",
    "                    HTerror_corr_method1(starts0[n], len(xc) - 1, n)\n",
    "                xheadCorrected = list(np.round(xheadCorrected, decimals=1))\n",
    "                yheadCorrected = list(np.round(yheadCorrected, decimals=1))\n",
    "                xtailCorrected = list(np.round(xtailCorrected, decimals=1))\n",
    "                ytailCorrected = list(np.round(ytailCorrected, decimals=1))\n",
    "            # plotting basic trajectories to visualize the correction:\n",
    "            ax2.plot(xheadCorrected, yheadCorrected, 'r', label='head')\n",
    "            ax2.plot(xtailCorrected, ytailCorrected, 'b', label='tail')\n",
    "            ax2.set_xlabel('x axis')\n",
    "            ax2.set_ylabel('y axis')\n",
    "            ax2.set_title('trajectory after filters + HT correction')\n",
    "            plt.suptitle('trajectory before and after filtering and HT error correction')\n",
    "            fig.set_figheight(6)\n",
    "            fig.set_figwidth(11)\n",
    "            handles, labels = ax1.get_legend_handles_labels()  # or ax2\n",
    "            fig.legend(handles, labels, loc='upper left')\n",
    "            fig.savefig('trajectory before and after filter and HT error correction.png')\n",
    "            # plt.show(block=False)  #to unblock the session to be able to close the window\n",
    "            # plt.time.sleep(5)\n",
    "            plt.close(fig)\n",
    "\n",
    "            # filename for the corrected file:\n",
    "            fileparts = filename.split('.')\n",
    "            first_part = '.'.join(fileparts[0:len(fileparts) - 1])\n",
    "            second_part = \"_processed_raw\"\n",
    "            filename_corrected = '.'.join([first_part + second_part, fileparts[-1]])  # to rename the corrected file.\n",
    "            # below is a way to name the heading (first) row of the new csv file:\n",
    "            newCorrectedArray = {\n",
    "                'Frame': frame,\n",
    "                'Time': time,\n",
    "                'X-Centroid': np.nan,\n",
    "                'Y-Centroid': np.nan,\n",
    "                'X-Head': np.nan,\n",
    "                'Y-Head': np.nan,\n",
    "                'X-Tail': np.nan,\n",
    "                'Y-Tail': np.nan,\n",
    "                'X-Midpoint': np.nan,\n",
    "                'Y-Midpoint': np.nan,\n",
    "                'stimulation': stimulation,\n",
    "                'X-Head_HT_Corrected': xheadCorrected,\n",
    "                'Y-Head_HT_Corrected': yheadCorrected,\n",
    "                'X-Tail_HT_Corrected': xtailCorrected,\n",
    "                'Y-Tail_HT_Corrected': ytailCorrected,\n",
    "            }\n",
    "\n",
    "            \n",
    "            add_nan = 0  # CHANGE IT TO 1 IF YOU WANT TO ADD NaNs TO EQUALIZE LENGTH OF ARRAYS TO ORIGINAL VALUE.\n",
    "            if add_nan == 0:\n",
    "                # putting the actual data of corrected xy values in the array first:\n",
    "                df = pd.DataFrame(newCorrectedArray)\n",
    "                df.update(csv_raw)\n",
    "                # and then put it in a csv of the new filename:\n",
    "                df.to_csv(filename_corrected)\n",
    "            elif add_nan == 1:    # if for some reason, you want arrays of same length:\n",
    "                df1 = pd.DataFrame(newCorrectedArray)\n",
    "                nan_len = len(csvdata['X-Centroid'])-1 -len(xheadCorrected) # length of nans to be added\n",
    "                nan_arr = []\n",
    "                for n in range(nan_len):\n",
    "                    nan_arr.append(np.nan)\n",
    "                print(nan_arr[0:20])\n",
    "                df2 = pd.DataFrame({'Frame': nan_arr,\n",
    "                        'Time': nan_arr,\n",
    "                        'X-Centroid': nan_arr,\n",
    "                        'Y-Centroid': nan_arr,\n",
    "                        'X-Head': nan_arr,\n",
    "                        'Y-Head': nan_arr,\n",
    "                        'X-Tail': nan_arr,\n",
    "                        'Y-Tail': nan_arr,\n",
    "                        'X-Midpoint': nan_arr,\n",
    "                        'Y-Midpoint': nan_arr,\n",
    "                        'stimulation': nan_arr})\n",
    "                df3 = pd.concat([df1, df2], ignore_index=True)\n",
    "                df3.reset_index()\n",
    "                df3.to_csv(filename_corrected)\n",
    "\n",
    "\n",
    "\n",
    "\n",
    "        ht_error_correction_module(filename, ba_f.starts0, ba_f.ends0, f.xcFilt, f.ycFilt, f.xhFilt, f.yhFilt, f.xtFilt,\n",
    "                                   f.ytFilt, f.frame, f.time, f.xmFilt, f.ymFilt, f.stimulation, f.framerate, xhraw,\n",
    "                                   yhraw, xtraw, ytraw)\n",
    "    #now, use the Htmodule of procesing script(now called ht-err-corr-onfile)which was the mainfun in only HT-corr code:\n",
    "    HT_err_corr_on_file(newcsvdata, filename)"
   ]
  },
  {
   "cell_type": "code",
   "execution_count": 63,
   "id": "56a03663",
   "metadata": {
    "scrolled": true
   },
   "outputs": [
    {
     "name": "stdout",
     "output_type": "stream",
     "text": [
      "no edge noise or jumps in 12-49-52\n",
      "No edge noise or jumps in 12-49-52\n",
      "proper_traj_segment_locations [0, 9526]\n"
     ]
    }
   ],
   "source": [
    "process_pivr_csvfile_with_raw_version2('2021.09.08_12-49-52_W1118_Solvent', data, \"12-49-52\")"
   ]
  },
  {
   "cell_type": "code",
   "execution_count": 23,
   "id": "9a597b7b",
   "metadata": {
    "scrolled": false
   },
   "outputs": [],
   "source": [
    "new_raw = pd.read_csv('/Users/stellajia/Desktop/UCSB/Louis_Lab/ht_correction/2021.09.08_12-49-52_W1118_Solvent/_processed_raw.12-49-52')\n",
    "new_raw.to_csv('_processed_raw_12-49-52.csv')\n",
    "\n",
    "\n"
   ]
  },
  {
   "cell_type": "code",
   "execution_count": 24,
   "id": "27ac5ba5",
   "metadata": {},
   "outputs": [
    {
     "data": {
      "text/plain": [
       "0          2\n",
       "1          3\n",
       "2          4\n",
       "3          5\n",
       "4          6\n",
       "        ... \n",
       "9521    9523\n",
       "9522    9524\n",
       "9523    9525\n",
       "9524    9526\n",
       "9525    9527\n",
       "Name: Frame, Length: 9526, dtype: int64"
      ]
     },
     "execution_count": 24,
     "metadata": {},
     "output_type": "execute_result"
    }
   ],
   "source": [
    "xh = new_raw[\"X-Head_HT_Corrected\"]\n",
    "yh = new_raw[\"Y-Head_HT_Corrected\"]\n",
    "xt = new_raw[\"X-Tail_HT_Corrected\"]\n",
    "yt = new_raw[\"Y-Tail_HT_Corrected\"]\n",
    "frame_new = new_raw[\"Frame\"]\n",
    "frame_new"
   ]
  },
  {
   "cell_type": "code",
   "execution_count": 25,
   "id": "7733aaa4",
   "metadata": {
    "scrolled": true
   },
   "outputs": [
    {
     "data": {
      "image/png": "[encoded data removed]",
      "text/plain": [
       "<Figure size 432x288 with 2 Axes>"
      ]
     },
     "metadata": {
      "needs_background": "light"
     },
     "output_type": "display_data"
    }
   ],
   "source": [
    "fig, (ax1,ax2) = plt.subplots(1, 2)\n",
    "\n",
    "ax1.plot(xh, yh, label=\"head\") # blue\n",
    "ax1.plot(xt, yt, label=\"tail\")\n",
    "plt.show()"
   ]
  },
  {
   "cell_type": "code",
   "execution_count": 77,
   "id": "a91cb7eb",
   "metadata": {},
   "outputs": [
    {
     "data": {
      "text/plain": [
       "9526"
      ]
     },
     "execution_count": 77,
     "metadata": {},
     "output_type": "execute_result"
    }
   ],
   "source": [
    "len(xh)"
   ]
  },
  {
   "cell_type": "code",
   "execution_count": 81,
   "id": "72c60f3b",
   "metadata": {
    "scrolled": false
   },
   "outputs": [
    {
     "data": {
      "text/plain": [
       "9526"
      ]
     },
     "execution_count": 81,
     "metadata": {},
     "output_type": "execute_result"
    }
   ],
   "source": [
    "len(frames[:9526])"
   ]
  },
  {
   "cell_type": "markdown",
   "id": "b92dd196",
   "metadata": {},
   "source": [
    "### Overlap Han's filter with my own code to see how well it works"
   ]
  },
  {
   "cell_type": "code",
   "execution_count": 41,
   "id": "62efd1a2",
   "metadata": {
    "scrolled": true
   },
   "outputs": [
    {
     "data": {
      "image/png": "[encoded data removed]",
      "text/plain": [
       "<Figure size 432x288 with 2 Axes>"
      ]
     },
     "metadata": {
      "needs_background": "light"
     },
     "output_type": "display_data"
    }
   ],
   "source": [
    "ht_correction(filename, 100, Xcentroid, Ycentroid, xh, yh, xt, yt, frame_new)"
   ]
  },
  {
   "cell_type": "code",
   "execution_count": 27,
   "id": "032b49a3",
   "metadata": {},
   "outputs": [],
   "source": [
    "# testing another trajectory\n",
    "new_raw1 = pd.read_csv('/Users/stellajia/Desktop/UCSB/Louis_Lab/ht_correction/2021.10.04_15-08-01_W1118 Odor/_processed_raw.15-08-01')\n",
    "new_raw1.to_csv('_processed_raw.15-08-01.csv')\n",
    "\n",
    "\n"
   ]
  },
  {
   "cell_type": "code",
   "execution_count": 28,
   "id": "a336d0fd",
   "metadata": {},
   "outputs": [],
   "source": [
    "xh1 = new_raw1[\"X-Head_HT_Corrected\"]\n",
    "yh1 = new_raw1[\"Y-Head_HT_Corrected\"]\n",
    "xt1 = new_raw1[\"X-Tail_HT_Corrected\"]\n",
    "yt1 = new_raw1[\"Y-Tail_HT_Corrected\"]\n",
    "frame_new1 = new_raw1[\"Frame\"]"
   ]
  },
  {
   "cell_type": "code",
   "execution_count": 40,
   "id": "684b8ffe",
   "metadata": {
    "scrolled": true
   },
   "outputs": [
    {
     "data": {
      "image/png": "[encoded data removed]",
      "text/plain": [
       "<Figure size 432x288 with 2 Axes>"
      ]
     },
     "metadata": {
      "needs_background": "light"
     },
     "output_type": "display_data"
    }
   ],
   "source": [
    "ht_correction(filename, 100, Xcentroid1, Ycentroid1, xh1, yh1, xt1, yt1, frame_new1)"
   ]
  },
  {
   "cell_type": "code",
   "execution_count": 133,
   "id": "f2f4bc6b",
   "metadata": {},
   "outputs": [
    {
     "data": {
      "text/plain": [
       "0       824\n",
       "1       824\n",
       "2       824\n",
       "3       825\n",
       "4       825\n",
       "       ... \n",
       "9515    348\n",
       "9516    346\n",
       "9517    349\n",
       "9518    350\n",
       "9519    349\n",
       "Name: X-Head_HT_Corrected, Length: 9520, dtype: int64"
      ]
     },
     "execution_count": 133,
     "metadata": {},
     "output_type": "execute_result"
    }
   ],
   "source": [
    "# edit csv file\n",
    "data_copy1 = pd.read_csv('/Users/stellajia/Desktop/UCSB/Louis_Lab/ht_correction/2021.10.04_15-08-01_W1118 Odor_og-filter/2021.10.04_15-08-01_data.csv')\n",
    "\n",
    "# chop off original file so it matches new raw file\n",
    "data_copy1.drop(data_copy1.tail(18).index, axis=0, inplace=True)\n",
    "# data_copy1['X-Head'][2:] = new_raw1['X-Head_HT_Corrected']\n",
    "\n",
    "len(data_copy1)"
   ]
  },
  {
   "cell_type": "code",
   "execution_count": 134,
   "id": "557ca26c",
   "metadata": {},
   "outputs": [
    {
     "name": "stderr",
     "output_type": "stream",
     "text": [
      "/var/folders/3g/vjzcw6050n34kshmr3dgry980000gp/T/ipykernel_92449/1813990110.py:2: SettingWithCopyWarning: \n",
      "A value is trying to be set on a copy of a slice from a DataFrame\n",
      "\n",
      "See the caveats in the documentation: https://pandas.pydata.org/pandas-docs/stable/user_guide/indexing.html#returning-a-view-versus-a-copy\n",
      "  data_copy1['X-Head'][2:] = new_raw1['X-Head_HT_Corrected']\n"
     ]
    }
   ],
   "source": [
    "len(data_copy1[2:])\n",
    "data_copy1['X-Head'][2:] = new_raw1['X-Head_HT_Corrected']"
   ]
  },
  {
   "cell_type": "code",
   "execution_count": 141,
   "id": "39b26513",
   "metadata": {},
   "outputs": [
    {
     "data": {
      "text/html": [
       "<div>\n",
       "<style scoped>\n",
       "    .dataframe tbody tr th:only-of-type {\n",
       "        vertical-align: middle;\n",
       "    }\n",
       "\n",
       "    .dataframe tbody tr th {\n",
       "        vertical-align: top;\n",
       "    }\n",
       "\n",
       "    .dataframe thead th {\n",
       "        text-align: right;\n",
       "    }\n",
       "</style>\n",
       "<table border=\"1\" class=\"dataframe\">\n",
       "  <thead>\n",
       "    <tr style=\"text-align: right;\">\n",
       "      <th></th>\n",
       "      <th>Unnamed: 0</th>\n",
       "      <th>Frame</th>\n",
       "      <th>Time</th>\n",
       "      <th>X-Centroid</th>\n",
       "      <th>Y-Centroid</th>\n",
       "      <th>X-Head</th>\n",
       "      <th>Y-Head</th>\n",
       "      <th>X-Tail</th>\n",
       "      <th>Y-Tail</th>\n",
       "      <th>X-Midpoint</th>\n",
       "      <th>Y-Midpoint</th>\n",
       "      <th>stimulation</th>\n",
       "    </tr>\n",
       "  </thead>\n",
       "  <tbody>\n",
       "    <tr>\n",
       "      <th>9517</th>\n",
       "      <td>9517</td>\n",
       "      <td>9517</td>\n",
       "      <td>0.0</td>\n",
       "      <td>0</td>\n",
       "      <td>0</td>\n",
       "      <td>348</td>\n",
       "      <td>0</td>\n",
       "      <td>0</td>\n",
       "      <td>0</td>\n",
       "      <td>0</td>\n",
       "      <td>0</td>\n",
       "      <td>0.0</td>\n",
       "    </tr>\n",
       "    <tr>\n",
       "      <th>9518</th>\n",
       "      <td>9518</td>\n",
       "      <td>9518</td>\n",
       "      <td>0.0</td>\n",
       "      <td>0</td>\n",
       "      <td>0</td>\n",
       "      <td>346</td>\n",
       "      <td>0</td>\n",
       "      <td>0</td>\n",
       "      <td>0</td>\n",
       "      <td>0</td>\n",
       "      <td>0</td>\n",
       "      <td>0.0</td>\n",
       "    </tr>\n",
       "    <tr>\n",
       "      <th>9519</th>\n",
       "      <td>9519</td>\n",
       "      <td>9519</td>\n",
       "      <td>0.0</td>\n",
       "      <td>0</td>\n",
       "      <td>0</td>\n",
       "      <td>349</td>\n",
       "      <td>0</td>\n",
       "      <td>0</td>\n",
       "      <td>0</td>\n",
       "      <td>0</td>\n",
       "      <td>0</td>\n",
       "      <td>0.0</td>\n",
       "    </tr>\n",
       "    <tr>\n",
       "      <th>9520</th>\n",
       "      <td>9520</td>\n",
       "      <td>9520</td>\n",
       "      <td>0.0</td>\n",
       "      <td>0</td>\n",
       "      <td>0</td>\n",
       "      <td>350</td>\n",
       "      <td>0</td>\n",
       "      <td>0</td>\n",
       "      <td>0</td>\n",
       "      <td>0</td>\n",
       "      <td>0</td>\n",
       "      <td>0.0</td>\n",
       "    </tr>\n",
       "    <tr>\n",
       "      <th>9521</th>\n",
       "      <td>9521</td>\n",
       "      <td>9521</td>\n",
       "      <td>0.0</td>\n",
       "      <td>0</td>\n",
       "      <td>0</td>\n",
       "      <td>349</td>\n",
       "      <td>0</td>\n",
       "      <td>0</td>\n",
       "      <td>0</td>\n",
       "      <td>0</td>\n",
       "      <td>0</td>\n",
       "      <td>0.0</td>\n",
       "    </tr>\n",
       "  </tbody>\n",
       "</table>\n",
       "</div>"
      ],
      "text/plain": [
       "      Unnamed: 0  Frame  Time  X-Centroid  Y-Centroid  X-Head  Y-Head  X-Tail  \\\n",
       "9517        9517   9517   0.0           0           0     348       0       0   \n",
       "9518        9518   9518   0.0           0           0     346       0       0   \n",
       "9519        9519   9519   0.0           0           0     349       0       0   \n",
       "9520        9520   9520   0.0           0           0     350       0       0   \n",
       "9521        9521   9521   0.0           0           0     349       0       0   \n",
       "\n",
       "      Y-Tail  X-Midpoint  Y-Midpoint  stimulation  \n",
       "9517       0           0           0          0.0  \n",
       "9518       0           0           0          0.0  \n",
       "9519       0           0           0          0.0  \n",
       "9520       0           0           0          0.0  \n",
       "9521       0           0           0          0.0  "
      ]
     },
     "execution_count": 141,
     "metadata": {},
     "output_type": "execute_result"
    }
   ],
   "source": [
    "data_copy1.tail()"
   ]
  },
  {
   "cell_type": "code",
   "execution_count": 37,
   "id": "4f44b25e",
   "metadata": {},
   "outputs": [],
   "source": [
    "# testing another trajectory\n",
    "new_raw2 = new_raw1 = pd.read_csv('/Users/stellajia/Desktop/UCSB/Louis_Lab/ht_correction/2021.09.08_15-46-15_W1118_Solvent/_processed_raw.15-46-15')\n",
    "new_raw2.to_csv('_processed_raw.15-46-15.csv')\n",
    "\n",
    "\n"
   ]
  },
  {
   "cell_type": "code",
   "execution_count": 38,
   "id": "5aa3cac0",
   "metadata": {},
   "outputs": [],
   "source": [
    "xh2 = new_raw2[\"X-Head_HT_Corrected\"]\n",
    "yh2 = new_raw2[\"Y-Head_HT_Corrected\"]\n",
    "xt2 = new_raw2[\"X-Tail_HT_Corrected\"]\n",
    "yt2 = new_raw2[\"Y-Tail_HT_Corrected\"]\n",
    "frame_new2 = new_raw2[\"Frame\"]"
   ]
  },
  {
   "cell_type": "code",
   "execution_count": 39,
   "id": "450251ec",
   "metadata": {
    "scrolled": false
   },
   "outputs": [
    {
     "data": {
      "image/png": "[encoded data removed]",
      "text/plain": [
       "<Figure size 432x288 with 2 Axes>"
      ]
     },
     "metadata": {
      "needs_background": "light"
     },
     "output_type": "display_data"
    }
   ],
   "source": [
    "ht_correction(filename, 100, Xcentroid2, Ycentroid2, xh2, yh2, xt2, yt2, frame_new2)"
   ]
  },
  {
   "cell_type": "code",
   "execution_count": 153,
   "id": "8d3d5611",
   "metadata": {},
   "outputs": [
    {
     "data": {
      "image/png": "[encoded data removed]",
      "text/plain": [
       "<Figure size 432x288 with 2 Axes>"
      ]
     },
     "metadata": {
      "needs_background": "light"
     },
     "output_type": "display_data"
    }
   ],
   "source": [
    "ht_correction(filename, 4900, Xcentroid2, Ycentroid2, xh2, yh2, xt2, yt2, frame_new2)"
   ]
  }
 ],
 "metadata": {
  "kernelspec": {
   "display_name": "Python 3 (ipykernel)",
   "language": "python",
   "name": "python3"
  },
  "language_info": {
   "codemirror_mode": {
    "name": "ipython",
    "version": 3
   },
   "file_extension": ".py",
   "mimetype": "text/x-python",
   "name": "python",
   "nbconvert_exporter": "python",
   "pygments_lexer": "ipython3",
   "version": "3.9.5"
  }
 },
 "nbformat": 4,
 "nbformat_minor": 5
}
